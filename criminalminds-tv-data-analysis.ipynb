{
 "cells": [
  {
   "cell_type": "markdown",
   "id": "b2971960-c531-49b3-bf64-86b5882f28ca",
   "metadata": {
    "tags": []
   },
   "source": [
    "## A Quick EDA of the Scrapped Data"
   ]
  },
  {
   "cell_type": "code",
   "execution_count": 51,
   "id": "55266315-cdcd-44ef-ae41-a88b1562744d",
   "metadata": {},
   "outputs": [
    {
     "data": {
      "text/html": [
       "<div>\n",
       "<style scoped>\n",
       "    .dataframe tbody tr th:only-of-type {\n",
       "        vertical-align: middle;\n",
       "    }\n",
       "\n",
       "    .dataframe tbody tr th {\n",
       "        vertical-align: top;\n",
       "    }\n",
       "\n",
       "    .dataframe thead th {\n",
       "        text-align: right;\n",
       "    }\n",
       "</style>\n",
       "<table border=\"1\" class=\"dataframe\">\n",
       "  <thead>\n",
       "    <tr style=\"text-align: right;\">\n",
       "      <th></th>\n",
       "      <th>count</th>\n",
       "      <th>mean</th>\n",
       "      <th>std</th>\n",
       "      <th>min</th>\n",
       "      <th>25%</th>\n",
       "      <th>50%</th>\n",
       "      <th>75%</th>\n",
       "      <th>max</th>\n",
       "    </tr>\n",
       "  </thead>\n",
       "  <tbody>\n",
       "    <tr>\n",
       "      <th>season_number</th>\n",
       "      <td>323.0</td>\n",
       "      <td>7.569659</td>\n",
       "      <td>4.064382</td>\n",
       "      <td>1.00</td>\n",
       "      <td>4.00</td>\n",
       "      <td>8.00</td>\n",
       "      <td>11.000</td>\n",
       "      <td>15.00</td>\n",
       "    </tr>\n",
       "    <tr>\n",
       "      <th>episode_number_overall</th>\n",
       "      <td>323.0</td>\n",
       "      <td>162.000000</td>\n",
       "      <td>93.386294</td>\n",
       "      <td>1.00</td>\n",
       "      <td>81.50</td>\n",
       "      <td>162.00</td>\n",
       "      <td>242.500</td>\n",
       "      <td>323.00</td>\n",
       "    </tr>\n",
       "    <tr>\n",
       "      <th>episode_number</th>\n",
       "      <td>323.0</td>\n",
       "      <td>11.609907</td>\n",
       "      <td>6.648880</td>\n",
       "      <td>1.00</td>\n",
       "      <td>6.00</td>\n",
       "      <td>11.00</td>\n",
       "      <td>17.000</td>\n",
       "      <td>25.00</td>\n",
       "    </tr>\n",
       "    <tr>\n",
       "      <th>imdb_rating</th>\n",
       "      <td>323.0</td>\n",
       "      <td>7.659752</td>\n",
       "      <td>0.428694</td>\n",
       "      <td>6.60</td>\n",
       "      <td>7.40</td>\n",
       "      <td>7.60</td>\n",
       "      <td>7.900</td>\n",
       "      <td>9.10</td>\n",
       "    </tr>\n",
       "    <tr>\n",
       "      <th>imdb_votes</th>\n",
       "      <td>323.0</td>\n",
       "      <td>1857.656347</td>\n",
       "      <td>546.078046</td>\n",
       "      <td>523.00</td>\n",
       "      <td>1585.00</td>\n",
       "      <td>1837.00</td>\n",
       "      <td>2137.000</td>\n",
       "      <td>3783.00</td>\n",
       "    </tr>\n",
       "    <tr>\n",
       "      <th>us_viewers_in_millions</th>\n",
       "      <td>323.0</td>\n",
       "      <td>11.254241</td>\n",
       "      <td>3.512967</td>\n",
       "      <td>3.74</td>\n",
       "      <td>9.08</td>\n",
       "      <td>11.98</td>\n",
       "      <td>13.775</td>\n",
       "      <td>26.31</td>\n",
       "    </tr>\n",
       "  </tbody>\n",
       "</table>\n",
       "</div>"
      ],
      "text/plain": [
       "                        count         mean         std     min      25%  \\\n",
       "season_number           323.0     7.569659    4.064382    1.00     4.00   \n",
       "episode_number_overall  323.0   162.000000   93.386294    1.00    81.50   \n",
       "episode_number          323.0    11.609907    6.648880    1.00     6.00   \n",
       "imdb_rating             323.0     7.659752    0.428694    6.60     7.40   \n",
       "imdb_votes              323.0  1857.656347  546.078046  523.00  1585.00   \n",
       "us_viewers_in_millions  323.0    11.254241    3.512967    3.74     9.08   \n",
       "\n",
       "                            50%       75%      max  \n",
       "season_number              8.00    11.000    15.00  \n",
       "episode_number_overall   162.00   242.500   323.00  \n",
       "episode_number            11.00    17.000    25.00  \n",
       "imdb_rating                7.60     7.900     9.10  \n",
       "imdb_votes              1837.00  2137.000  3783.00  \n",
       "us_viewers_in_millions    11.98    13.775    26.31  "
      ]
     },
     "execution_count": 51,
     "metadata": {},
     "output_type": "execute_result"
    }
   ],
   "source": [
    "cm_df.describe().T"
   ]
  },
  {
   "cell_type": "code",
   "execution_count": 52,
   "id": "680e69fb-8e41-4f4f-9aed-ffbd9d094c28",
   "metadata": {},
   "outputs": [
    {
     "data": {
      "text/plain": [
       "7.66"
      ]
     },
     "execution_count": 52,
     "metadata": {},
     "output_type": "execute_result"
    }
   ],
   "source": [
    "cm_df.imdb_rating.mean().round(2)"
   ]
  },
  {
   "cell_type": "code",
   "execution_count": 53,
   "id": "019756cf-8fea-4ba6-8460-9c3d8d0221e5",
   "metadata": {},
   "outputs": [
    {
     "data": {
      "text/plain": [
       "11.25"
      ]
     },
     "execution_count": 53,
     "metadata": {},
     "output_type": "execute_result"
    }
   ],
   "source": [
    "cm_df.us_viewers_in_millions.mean().round(2)"
   ]
  },
  {
   "cell_type": "code",
   "execution_count": 54,
   "id": "25290487-04e7-47b5-927e-a83bc00caed1",
   "metadata": {},
   "outputs": [
    {
     "data": {
      "text/plain": [
       "season_number\n",
       "1     7.1\n",
       "2     7.1\n",
       "3     7.4\n",
       "4     7.0\n",
       "5     7.2\n",
       "6     7.2\n",
       "7     7.2\n",
       "8     7.1\n",
       "9     7.4\n",
       "10    7.0\n",
       "11    6.6\n",
       "12    6.8\n",
       "13    6.9\n",
       "14    7.1\n",
       "15    7.1\n",
       "Name: imdb_rating, dtype: float64"
      ]
     },
     "execution_count": 54,
     "metadata": {},
     "output_type": "execute_result"
    }
   ],
   "source": [
    "#lowest rating in each season\n",
    "cm_df.groupby('season_number')['imdb_rating'].min()"
   ]
  },
  {
   "cell_type": "code",
   "execution_count": 55,
   "id": "a85f2ef3-ab36-469f-a592-68ed24f65137",
   "metadata": {},
   "outputs": [
    {
     "data": {
      "text/plain": [
       "season_number\n",
       "1     8.5\n",
       "2     8.8\n",
       "3     8.6\n",
       "4     8.5\n",
       "5     9.1\n",
       "6     8.6\n",
       "7     8.4\n",
       "8     8.6\n",
       "9     8.6\n",
       "10    8.7\n",
       "11    9.1\n",
       "12    8.3\n",
       "13    8.5\n",
       "14    8.3\n",
       "15    8.6\n",
       "Name: imdb_rating, dtype: float64"
      ]
     },
     "execution_count": 55,
     "metadata": {},
     "output_type": "execute_result"
    }
   ],
   "source": [
    "#highest rating in each season\n",
    "cm_df.groupby('season_number')['imdb_rating'].max()"
   ]
  },
  {
   "cell_type": "code",
   "execution_count": 56,
   "id": "7a0c8b1c-c4b0-4ef8-9d71-d129f85a0e40",
   "metadata": {},
   "outputs": [
    {
     "data": {
      "text/plain": [
       "season_number\n",
       "1     10.57\n",
       "2     12.80\n",
       "3     12.66\n",
       "4     12.48\n",
       "5     12.39\n",
       "6     12.02\n",
       "7     11.34\n",
       "8     10.08\n",
       "9      9.42\n",
       "10     8.72\n",
       "11     7.64\n",
       "12     6.54\n",
       "13     5.04\n",
       "14     4.29\n",
       "15     3.74\n",
       "Name: us_viewers_in_millions, dtype: float64"
      ]
     },
     "execution_count": 56,
     "metadata": {},
     "output_type": "execute_result"
    }
   ],
   "source": [
    "#lowest viewership in each season\n",
    "cm_df.groupby('season_number')['us_viewers_in_millions'].min()"
   ]
  },
  {
   "cell_type": "code",
   "execution_count": 57,
   "id": "1dbfbc5c-2a76-4bf3-8ac6-6df93204f178",
   "metadata": {},
   "outputs": [
    {
     "data": {
      "text/plain": [
       "season_number\n",
       "1     19.57\n",
       "2     26.31\n",
       "3     16.23\n",
       "4     17.01\n",
       "5     15.85\n",
       "6     14.58\n",
       "7     14.14\n",
       "8     12.64\n",
       "9     12.92\n",
       "10    11.74\n",
       "11    10.94\n",
       "12     8.92\n",
       "13     7.00\n",
       "14     5.50\n",
       "15     5.88\n",
       "Name: us_viewers_in_millions, dtype: float64"
      ]
     },
     "execution_count": 57,
     "metadata": {},
     "output_type": "execute_result"
    }
   ],
   "source": [
    "#highest viewership in each season\n",
    "cm_df.groupby('season_number')['us_viewers_in_millions'].max()"
   ]
  },
  {
   "cell_type": "code",
   "execution_count": 58,
   "id": "c1fdd723-eb78-452f-9879-070cf72e2d31",
   "metadata": {},
   "outputs": [
    {
     "data": {
      "text/plain": [
       "season_number\n",
       "1    2005-09-22\n",
       "2    2006-09-20\n",
       "3    2007-09-26\n",
       "4    2008-09-24\n",
       "5    2009-09-23\n",
       "6    2010-09-22\n",
       "7    2011-09-21\n",
       "8    2012-09-26\n",
       "9    2013-09-25\n",
       "10   2014-10-01\n",
       "11   2015-09-30\n",
       "12   2016-09-28\n",
       "13   2017-09-27\n",
       "14   2018-10-03\n",
       "15   2020-01-08\n",
       "Name: episode_airdate, dtype: datetime64[ns]"
      ]
     },
     "execution_count": 58,
     "metadata": {},
     "output_type": "execute_result"
    }
   ],
   "source": [
    "#the date each season started\n",
    "cm_df.groupby('season_number')['episode_airdate'].min()"
   ]
  },
  {
   "cell_type": "code",
   "execution_count": 59,
   "id": "c5b610b4-fe78-47b2-9f00-92fc7906a9df",
   "metadata": {},
   "outputs": [],
   "source": [
    "import matplotlib.pyplot as plt"
   ]
  },
  {
   "cell_type": "code",
   "execution_count": 60,
   "id": "bac31bc9-50ff-4d89-b76b-7d2c4a14577c",
   "metadata": {
    "tags": []
   },
   "outputs": [
    {
     "data": {
      "text/plain": [
       "<matplotlib.legend.Legend at 0x1fdaef82290>"
      ]
     },
     "execution_count": 60,
     "metadata": {},
     "output_type": "execute_result"
    },
    {
     "data": {
      "image/png": "[encoded data removed]",
      "text/plain": [
       "<Figure size 1008x360 with 1 Axes>"
      ]
     },
     "metadata": {
      "needs_background": "light"
     },
     "output_type": "display_data"
    }
   ],
   "source": [
    "#avg viwership for each season plotted\n",
    "cm_df.groupby('season_number')['us_viewers_in_millions'].mean().round(2).plot.bar(\n",
    "    plt.style.use('seaborn'), plt.figure(figsize=(14,5)),\n",
    "    title='Average US Viewers Each Season of Criminal Minds',\n",
    "    ylabel='US Viewers in Millions', xlabel='Season')\n",
    "\n",
    "plt.axhline(y=cm_df.us_viewers_in_millions.mean().round(2),\n",
    "            label=f'series average ({cm_df.us_viewers_in_millions.mean().round(2)} million)',\n",
    "            c='red', ls=':')\n",
    "plt.legend()"
   ]
  },
  {
   "cell_type": "code",
   "execution_count": null,
   "id": "6d934d56-6cc3-4368-9b4a-9c1fc0564a3d",
   "metadata": {},
   "outputs": [],
   "source": []
  },
  {
   "cell_type": "code",
   "execution_count": null,
   "id": "583e9763-7dca-4505-aacc-a415a5edbe8a",
   "metadata": {},
   "outputs": [],
   "source": []
  }
 ],
 "metadata": {
  "kernelspec": {
   "display_name": "Python 3 (ipykernel)",
   "language": "python",
   "name": "python3"
  },
  "language_info": {
   "codemirror_mode": {
    "name": "ipython",
    "version": 3
   },
   "file_extension": ".py",
   "mimetype": "text/x-python",
   "name": "python",
   "nbconvert_exporter": "python",
   "pygments_lexer": "ipython3",
   "version": "3.10.4"
  }
 },
 "nbformat": 4,
 "nbformat_minor": 5
}
