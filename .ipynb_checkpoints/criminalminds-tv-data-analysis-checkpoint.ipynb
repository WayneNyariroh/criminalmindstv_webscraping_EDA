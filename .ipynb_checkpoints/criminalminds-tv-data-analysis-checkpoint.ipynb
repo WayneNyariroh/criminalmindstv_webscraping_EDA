{
 "cells": [
  {
   "cell_type": "markdown",
   "id": "b2971960-c531-49b3-bf64-86b5882f28ca",
   "metadata": {
    "tags": []
   },
   "source": [
    "## A Quick EDA of the Scrapped Data"
   ]
  },
  {
   "cell_type": "markdown",
   "id": "9db2958d-4f26-457d-915e-ec36bd4f8ec6",
   "metadata": {},
   "source": [
    "### Basic Stats"
   ]
  },
  {
   "cell_type": "code",
   "execution_count": 58,
   "id": "4e19cf4b-bff4-49d0-b2e3-99891c7c2973",
   "metadata": {},
   "outputs": [],
   "source": [
    "%store -r cm_df"
   ]
  },
  {
   "cell_type": "code",
   "execution_count": 59,
   "id": "55266315-cdcd-44ef-ae41-a88b1562744d",
   "metadata": {},
   "outputs": [
    {
     "data": {
      "text/html": [
       "<div>\n",
       "<style scoped>\n",
       "    .dataframe tbody tr th:only-of-type {\n",
       "        vertical-align: middle;\n",
       "    }\n",
       "\n",
       "    .dataframe tbody tr th {\n",
       "        vertical-align: top;\n",
       "    }\n",
       "\n",
       "    .dataframe thead th {\n",
       "        text-align: right;\n",
       "    }\n",
       "</style>\n",
       "<table border=\"1\" class=\"dataframe\">\n",
       "  <thead>\n",
       "    <tr style=\"text-align: right;\">\n",
       "      <th></th>\n",
       "      <th>count</th>\n",
       "      <th>mean</th>\n",
       "      <th>std</th>\n",
       "      <th>min</th>\n",
       "      <th>25%</th>\n",
       "      <th>50%</th>\n",
       "      <th>75%</th>\n",
       "      <th>max</th>\n",
       "    </tr>\n",
       "  </thead>\n",
       "  <tbody>\n",
       "    <tr>\n",
       "      <th>season_number</th>\n",
       "      <td>323.0</td>\n",
       "      <td>7.569659</td>\n",
       "      <td>4.064382</td>\n",
       "      <td>1.00</td>\n",
       "      <td>4.00</td>\n",
       "      <td>8.00</td>\n",
       "      <td>11.000</td>\n",
       "      <td>15.00</td>\n",
       "    </tr>\n",
       "    <tr>\n",
       "      <th>episode_number_overall</th>\n",
       "      <td>323.0</td>\n",
       "      <td>162.000000</td>\n",
       "      <td>93.386294</td>\n",
       "      <td>1.00</td>\n",
       "      <td>81.50</td>\n",
       "      <td>162.00</td>\n",
       "      <td>242.500</td>\n",
       "      <td>323.00</td>\n",
       "    </tr>\n",
       "    <tr>\n",
       "      <th>episode_number</th>\n",
       "      <td>323.0</td>\n",
       "      <td>11.609907</td>\n",
       "      <td>6.648880</td>\n",
       "      <td>1.00</td>\n",
       "      <td>6.00</td>\n",
       "      <td>11.00</td>\n",
       "      <td>17.000</td>\n",
       "      <td>25.00</td>\n",
       "    </tr>\n",
       "    <tr>\n",
       "      <th>imdb_rating</th>\n",
       "      <td>323.0</td>\n",
       "      <td>7.659752</td>\n",
       "      <td>0.428694</td>\n",
       "      <td>6.60</td>\n",
       "      <td>7.40</td>\n",
       "      <td>7.60</td>\n",
       "      <td>7.900</td>\n",
       "      <td>9.10</td>\n",
       "    </tr>\n",
       "    <tr>\n",
       "      <th>imdb_votes</th>\n",
       "      <td>323.0</td>\n",
       "      <td>1857.863777</td>\n",
       "      <td>546.133513</td>\n",
       "      <td>523.00</td>\n",
       "      <td>1585.00</td>\n",
       "      <td>1838.00</td>\n",
       "      <td>2137.000</td>\n",
       "      <td>3784.00</td>\n",
       "    </tr>\n",
       "    <tr>\n",
       "      <th>us_viewers_in_millions</th>\n",
       "      <td>323.0</td>\n",
       "      <td>11.254241</td>\n",
       "      <td>3.512967</td>\n",
       "      <td>3.74</td>\n",
       "      <td>9.08</td>\n",
       "      <td>11.98</td>\n",
       "      <td>13.775</td>\n",
       "      <td>26.31</td>\n",
       "    </tr>\n",
       "  </tbody>\n",
       "</table>\n",
       "</div>"
      ],
      "text/plain": [
       "                        count         mean         std     min      25%  \\\n",
       "season_number           323.0     7.569659    4.064382    1.00     4.00   \n",
       "episode_number_overall  323.0   162.000000   93.386294    1.00    81.50   \n",
       "episode_number          323.0    11.609907    6.648880    1.00     6.00   \n",
       "imdb_rating             323.0     7.659752    0.428694    6.60     7.40   \n",
       "imdb_votes              323.0  1857.863777  546.133513  523.00  1585.00   \n",
       "us_viewers_in_millions  323.0    11.254241    3.512967    3.74     9.08   \n",
       "\n",
       "                            50%       75%      max  \n",
       "season_number              8.00    11.000    15.00  \n",
       "episode_number_overall   162.00   242.500   323.00  \n",
       "episode_number            11.00    17.000    25.00  \n",
       "imdb_rating                7.60     7.900     9.10  \n",
       "imdb_votes              1838.00  2137.000  3784.00  \n",
       "us_viewers_in_millions    11.98    13.775    26.31  "
      ]
     },
     "execution_count": 59,
     "metadata": {},
     "output_type": "execute_result"
    }
   ],
   "source": [
    "cm_df.describe().T"
   ]
  },
  {
   "cell_type": "code",
   "execution_count": 60,
   "id": "680e69fb-8e41-4f4f-9aed-ffbd9d094c28",
   "metadata": {},
   "outputs": [
    {
     "data": {
      "text/plain": [
       "7.66"
      ]
     },
     "execution_count": 60,
     "metadata": {},
     "output_type": "execute_result"
    }
   ],
   "source": [
    "cm_df.imdb_rating.mean().round(2)"
   ]
  },
  {
   "cell_type": "code",
   "execution_count": 61,
   "id": "70f31fd7-8c68-49fe-9b32-77e7252330a4",
   "metadata": {},
   "outputs": [
    {
     "name": "stdout",
     "output_type": "stream",
     "text": [
      "Highest Episode Rating in the series is 9.1\n",
      "Lowest Episode Rating in the series is 6.6\n"
     ]
    }
   ],
   "source": [
    "print(f'Highest Episode Rating in the series is {cm_df.imdb_rating.max()}')\n",
    "print(f'Lowest Episode Rating in the series is {cm_df.imdb_rating.min()}')"
   ]
  },
  {
   "cell_type": "code",
   "execution_count": 62,
   "id": "019756cf-8fea-4ba6-8460-9c3d8d0221e5",
   "metadata": {},
   "outputs": [
    {
     "name": "stdout",
     "output_type": "stream",
     "text": [
      "Average Viewers for the series is 11.25 Million\n"
     ]
    }
   ],
   "source": [
    "print(f'Average Viewers for the series is {cm_df.us_viewers_in_millions.mean().round(2)} Million')"
   ]
  },
  {
   "cell_type": "code",
   "execution_count": 63,
   "id": "25290487-04e7-47b5-927e-a83bc00caed1",
   "metadata": {},
   "outputs": [
    {
     "data": {
      "text/plain": [
       "season_number\n",
       "1     7.1\n",
       "2     7.1\n",
       "3     7.4\n",
       "4     7.0\n",
       "5     7.2\n",
       "6     7.2\n",
       "7     7.2\n",
       "8     7.1\n",
       "9     7.4\n",
       "10    7.0\n",
       "11    6.6\n",
       "12    6.8\n",
       "13    6.9\n",
       "14    7.1\n",
       "15    7.1\n",
       "Name: imdb_rating, dtype: float64"
      ]
     },
     "execution_count": 63,
     "metadata": {},
     "output_type": "execute_result"
    }
   ],
   "source": [
    "#lowest rating in each season\n",
    "cm_df.groupby('season_number')['imdb_rating'].min()"
   ]
  },
  {
   "cell_type": "code",
   "execution_count": 64,
   "id": "a85f2ef3-ab36-469f-a592-68ed24f65137",
   "metadata": {},
   "outputs": [
    {
     "data": {
      "text/plain": [
       "season_number\n",
       "1     8.5\n",
       "2     8.8\n",
       "3     8.6\n",
       "4     8.5\n",
       "5     9.1\n",
       "6     8.6\n",
       "7     8.4\n",
       "8     8.6\n",
       "9     8.6\n",
       "10    8.7\n",
       "11    9.1\n",
       "12    8.3\n",
       "13    8.5\n",
       "14    8.3\n",
       "15    8.6\n",
       "Name: imdb_rating, dtype: float64"
      ]
     },
     "execution_count": 64,
     "metadata": {},
     "output_type": "execute_result"
    }
   ],
   "source": [
    "#highest rating in each season\n",
    "cm_df.groupby('season_number')['imdb_rating'].max()"
   ]
  },
  {
   "cell_type": "code",
   "execution_count": 65,
   "id": "7a0c8b1c-c4b0-4ef8-9d71-d129f85a0e40",
   "metadata": {},
   "outputs": [
    {
     "data": {
      "text/plain": [
       "season_number\n",
       "1     10.57\n",
       "2     12.80\n",
       "3     12.66\n",
       "4     12.48\n",
       "5     12.39\n",
       "6     12.02\n",
       "7     11.34\n",
       "8     10.08\n",
       "9      9.42\n",
       "10     8.72\n",
       "11     7.64\n",
       "12     6.54\n",
       "13     5.04\n",
       "14     4.29\n",
       "15     3.74\n",
       "Name: us_viewers_in_millions, dtype: float64"
      ]
     },
     "execution_count": 65,
     "metadata": {},
     "output_type": "execute_result"
    }
   ],
   "source": [
    "#lowest viewership in each season\n",
    "cm_df.groupby('season_number')['us_viewers_in_millions'].min()"
   ]
  },
  {
   "cell_type": "code",
   "execution_count": 66,
   "id": "1dbfbc5c-2a76-4bf3-8ac6-6df93204f178",
   "metadata": {},
   "outputs": [
    {
     "data": {
      "text/plain": [
       "season_number\n",
       "1     19.57\n",
       "2     26.31\n",
       "3     16.23\n",
       "4     17.01\n",
       "5     15.85\n",
       "6     14.58\n",
       "7     14.14\n",
       "8     12.64\n",
       "9     12.92\n",
       "10    11.74\n",
       "11    10.94\n",
       "12     8.92\n",
       "13     7.00\n",
       "14     5.50\n",
       "15     5.88\n",
       "Name: us_viewers_in_millions, dtype: float64"
      ]
     },
     "execution_count": 66,
     "metadata": {},
     "output_type": "execute_result"
    }
   ],
   "source": [
    "#highest viewership in each season\n",
    "cm_df.groupby('season_number')['us_viewers_in_millions'].max()"
   ]
  },
  {
   "cell_type": "code",
   "execution_count": 67,
   "id": "27acc3c3-d999-46cb-8125-b0b9a3992e96",
   "metadata": {},
   "outputs": [
    {
     "data": {
      "text/plain": [
       "season_number\n",
       "1     13.88\n",
       "2     15.87\n",
       "3     14.07\n",
       "4     14.39\n",
       "5     13.70\n",
       "6     13.62\n",
       "7     12.64\n",
       "8     11.43\n",
       "9     10.88\n",
       "10    10.31\n",
       "11     9.01\n",
       "12     7.47\n",
       "13     5.73\n",
       "14     4.67\n",
       "15     4.71\n",
       "Name: us_viewers_in_millions, dtype: float64"
      ]
     },
     "execution_count": 67,
     "metadata": {},
     "output_type": "execute_result"
    }
   ],
   "source": [
    "#avg million viewers each season\n",
    "cm_df.groupby('season_number')['us_viewers_in_millions'].mean().round(2)"
   ]
  },
  {
   "cell_type": "markdown",
   "id": "3c525453-d161-4232-9509-879e45d50463",
   "metadata": {},
   "source": [
    "### Viewership Trend"
   ]
  },
  {
   "cell_type": "code",
   "execution_count": 68,
   "id": "c5b610b4-fe78-47b2-9f00-92fc7906a9df",
   "metadata": {},
   "outputs": [],
   "source": [
    "import matplotlib.pyplot as plt"
   ]
  },
  {
   "cell_type": "code",
   "execution_count": 69,
   "id": "bac31bc9-50ff-4d89-b76b-7d2c4a14577c",
   "metadata": {
    "tags": []
   },
   "outputs": [
    {
     "data": {
      "text/plain": [
       "<matplotlib.legend.Legend at 0x2769bf02440>"
      ]
     },
     "execution_count": 69,
     "metadata": {},
     "output_type": "execute_result"
    },
    {
     "data": {
      "image/png": "[encoded data removed]",
      "text/plain": [
       "<Figure size 1008x360 with 1 Axes>"
      ]
     },
     "metadata": {
      "needs_background": "light"
     },
     "output_type": "display_data"
    }
   ],
   "source": [
    "#avg viwership for each season plotted\n",
    "cm_df.groupby('season_number')['us_viewers_in_millions'].mean().round(2).plot.bar(\n",
    "    plt.style.use('seaborn'), plt.figure(figsize=(14,5)),\n",
    "    title='Average US Viewers Each Season of Criminal Minds',\n",
    "    ylabel='US Viewers in Millions', xlabel='Season')\n",
    "\n",
    "plt.axhline(y=cm_df.us_viewers_in_millions.mean().round(2),\n",
    "            label=f'series average ({cm_df.us_viewers_in_millions.mean().round(2)} million)',\n",
    "            c='red', ls=':')\n",
    "plt.legend()"
   ]
  },
  {
   "cell_type": "markdown",
   "id": "bbffbc13-6c79-43fe-9202-19d48d79f4ca",
   "metadata": {},
   "source": [
    "Viewership in US goes below the series average of 11.25 Million after season 8"
   ]
  },
  {
   "cell_type": "code",
   "execution_count": 70,
   "id": "3476d3c1-c111-4b5f-a759-0e7478df85c3",
   "metadata": {},
   "outputs": [
    {
     "data": {
      "text/plain": [
       "<matplotlib.legend.Legend at 0x2769e0db760>"
      ]
     },
     "execution_count": 70,
     "metadata": {},
     "output_type": "execute_result"
    },
    {
     "data": {
      "image/png": "[encoded data removed]",
      "text/plain": [
       "<Figure size 1440x576 with 1 Axes>"
      ]
     },
     "metadata": {},
     "output_type": "display_data"
    }
   ],
   "source": [
    "cm_df.groupby('episode_airdate')['us_viewers_in_millions'].mean().round(2).plot.line(\n",
    "    plt.style.use('seaborn'), plt.figure(figsize=(20,8)))\n",
    "\n",
    "plt.legend()"
   ]
  },
  {
   "cell_type": "markdown",
   "id": "ae56cf8d-b674-4342-8b4d-d6935ac302ce",
   "metadata": {},
   "source": [
    "### Episode Ratings Distribution"
   ]
  },
  {
   "cell_type": "code",
   "execution_count": 71,
   "id": "b41372fa-0013-4d0d-8d2a-a42d6da40ed8",
   "metadata": {},
   "outputs": [],
   "source": [
    "import seaborn as sns"
   ]
  },
  {
   "cell_type": "code",
   "execution_count": 72,
   "id": "844cad96-5c33-421f-ba47-d466107726ca",
   "metadata": {},
   "outputs": [
    {
     "data": {
      "text/plain": [
       "<matplotlib.legend.Legend at 0x276be585630>"
      ]
     },
     "execution_count": 72,
     "metadata": {},
     "output_type": "execute_result"
    },
    {
     "data": {
      "image/png": "[encoded data removed]",
      "text/plain": [
       "<Figure size 864x432 with 1 Axes>"
      ]
     },
     "metadata": {},
     "output_type": "display_data"
    }
   ],
   "source": [
    "plt.figure(figsize=(12,6))\n",
    "sns.scatterplot(data=cm_df, x='episode_airdate', y='imdb_rating')\n",
    "plt.title('Criminal Minds Episode Ratings')\n",
    "\n",
    "plt.axhline(y=cm_df.imdb_rating.mean().round(2), \n",
    "            label=f'average imdb rating ({cm_df.imdb_rating.mean().round(2)})',\n",
    "            ls=':', c='red')\n",
    "\n",
    "plt.legend()"
   ]
  },
  {
   "cell_type": "code",
   "execution_count": 73,
   "id": "60cdfffd-3c13-4087-bae9-6beb31dcf0da",
   "metadata": {},
   "outputs": [
    {
     "data": {
      "text/html": [
       "<div>\n",
       "<style scoped>\n",
       "    .dataframe tbody tr th:only-of-type {\n",
       "        vertical-align: middle;\n",
       "    }\n",
       "\n",
       "    .dataframe tbody tr th {\n",
       "        vertical-align: top;\n",
       "    }\n",
       "\n",
       "    .dataframe thead th {\n",
       "        text-align: right;\n",
       "    }\n",
       "</style>\n",
       "<table border=\"1\" class=\"dataframe\">\n",
       "  <thead>\n",
       "    <tr style=\"text-align: right;\">\n",
       "      <th></th>\n",
       "      <th>season_number</th>\n",
       "      <th>episode_number</th>\n",
       "    </tr>\n",
       "  </thead>\n",
       "  <tbody>\n",
       "    <tr>\n",
       "      <th>0</th>\n",
       "      <td>1</td>\n",
       "      <td>12</td>\n",
       "    </tr>\n",
       "    <tr>\n",
       "      <th>1</th>\n",
       "      <td>2</td>\n",
       "      <td>5</td>\n",
       "    </tr>\n",
       "    <tr>\n",
       "      <th>2</th>\n",
       "      <td>3</td>\n",
       "      <td>8</td>\n",
       "    </tr>\n",
       "    <tr>\n",
       "      <th>3</th>\n",
       "      <td>4</td>\n",
       "      <td>8</td>\n",
       "    </tr>\n",
       "    <tr>\n",
       "      <th>4</th>\n",
       "      <td>5</td>\n",
       "      <td>12</td>\n",
       "    </tr>\n",
       "    <tr>\n",
       "      <th>5</th>\n",
       "      <td>6</td>\n",
       "      <td>14</td>\n",
       "    </tr>\n",
       "    <tr>\n",
       "      <th>6</th>\n",
       "      <td>7</td>\n",
       "      <td>12</td>\n",
       "    </tr>\n",
       "    <tr>\n",
       "      <th>7</th>\n",
       "      <td>8</td>\n",
       "      <td>15</td>\n",
       "    </tr>\n",
       "    <tr>\n",
       "      <th>8</th>\n",
       "      <td>9</td>\n",
       "      <td>15</td>\n",
       "    </tr>\n",
       "    <tr>\n",
       "      <th>9</th>\n",
       "      <td>10</td>\n",
       "      <td>18</td>\n",
       "    </tr>\n",
       "    <tr>\n",
       "      <th>10</th>\n",
       "      <td>11</td>\n",
       "      <td>16</td>\n",
       "    </tr>\n",
       "    <tr>\n",
       "      <th>11</th>\n",
       "      <td>12</td>\n",
       "      <td>18</td>\n",
       "    </tr>\n",
       "    <tr>\n",
       "      <th>12</th>\n",
       "      <td>13</td>\n",
       "      <td>16</td>\n",
       "    </tr>\n",
       "    <tr>\n",
       "      <th>13</th>\n",
       "      <td>14</td>\n",
       "      <td>11</td>\n",
       "    </tr>\n",
       "    <tr>\n",
       "      <th>14</th>\n",
       "      <td>15</td>\n",
       "      <td>5</td>\n",
       "    </tr>\n",
       "  </tbody>\n",
       "</table>\n",
       "</div>"
      ],
      "text/plain": [
       "    season_number  episode_number\n",
       "0               1              12\n",
       "1               2               5\n",
       "2               3               8\n",
       "3               4               8\n",
       "4               5              12\n",
       "5               6              14\n",
       "6               7              12\n",
       "7               8              15\n",
       "8               9              15\n",
       "9              10              18\n",
       "10             11              16\n",
       "11             12              18\n",
       "12             13              16\n",
       "13             14              11\n",
       "14             15               5"
      ]
     },
     "execution_count": 73,
     "metadata": {},
     "output_type": "execute_result"
    }
   ],
   "source": [
    "#episodes in each season that got ratings below the mean of 7.66\n",
    "#cm_df[cm_df.imdb_rating < cm_df.imdb_rating.mean()]\n",
    "cm_df[cm_df.imdb_rating < cm_df.imdb_rating.mean()].groupby('season_number')['episode_number'].count().reset_index()"
   ]
  },
  {
   "cell_type": "markdown",
   "id": "fdc0aa8f-51a1-45f4-8008-f18cc4bde543",
   "metadata": {},
   "source": [
    "### Release Trends"
   ]
  },
  {
   "cell_type": "code",
   "execution_count": 74,
   "id": "84495154-0156-461f-bdcb-77ac7523eeb2",
   "metadata": {},
   "outputs": [
    {
     "data": {
      "text/plain": [
       "15"
      ]
     },
     "execution_count": 74,
     "metadata": {},
     "output_type": "execute_result"
    }
   ],
   "source": [
    "cm_df.season_number.nunique()"
   ]
  },
  {
   "cell_type": "code",
   "execution_count": 75,
   "id": "c1fdd723-eb78-452f-9879-070cf72e2d31",
   "metadata": {
    "tags": []
   },
   "outputs": [
    {
     "data": {
      "text/plain": [
       "season_number\n",
       "1    2005-09-22\n",
       "2    2006-09-20\n",
       "3    2007-09-26\n",
       "4    2008-09-24\n",
       "5    2009-09-23\n",
       "6    2010-09-22\n",
       "7    2011-09-21\n",
       "8    2012-09-26\n",
       "9    2013-09-25\n",
       "10   2014-10-01\n",
       "11   2015-09-30\n",
       "12   2016-09-28\n",
       "13   2017-09-27\n",
       "14   2018-10-03\n",
       "15   2020-01-08\n",
       "Name: episode_airdate, dtype: datetime64[ns]"
      ]
     },
     "execution_count": 75,
     "metadata": {},
     "output_type": "execute_result"
    }
   ],
   "source": [
    "#the date each season started\n",
    "cm_df.groupby('season_number')['episode_airdate'].min()"
   ]
  },
  {
   "cell_type": "code",
   "execution_count": 76,
   "id": "583e9763-7dca-4505-aacc-a415a5edbe8a",
   "metadata": {},
   "outputs": [
    {
     "data": {
      "text/html": [
       "<div>\n",
       "<style scoped>\n",
       "    .dataframe tbody tr th:only-of-type {\n",
       "        vertical-align: middle;\n",
       "    }\n",
       "\n",
       "    .dataframe tbody tr th {\n",
       "        vertical-align: top;\n",
       "    }\n",
       "\n",
       "    .dataframe thead th {\n",
       "        text-align: right;\n",
       "    }\n",
       "</style>\n",
       "<table border=\"1\" class=\"dataframe\">\n",
       "  <thead>\n",
       "    <tr style=\"text-align: right;\">\n",
       "      <th></th>\n",
       "      <th>season_number</th>\n",
       "      <th>episode_airdate</th>\n",
       "    </tr>\n",
       "  </thead>\n",
       "  <tbody>\n",
       "    <tr>\n",
       "      <th>0</th>\n",
       "      <td>1</td>\n",
       "      <td>230 days</td>\n",
       "    </tr>\n",
       "    <tr>\n",
       "      <th>1</th>\n",
       "      <td>2</td>\n",
       "      <td>238 days</td>\n",
       "    </tr>\n",
       "    <tr>\n",
       "      <th>2</th>\n",
       "      <td>3</td>\n",
       "      <td>238 days</td>\n",
       "    </tr>\n",
       "    <tr>\n",
       "      <th>3</th>\n",
       "      <td>4</td>\n",
       "      <td>238 days</td>\n",
       "    </tr>\n",
       "    <tr>\n",
       "      <th>4</th>\n",
       "      <td>5</td>\n",
       "      <td>245 days</td>\n",
       "    </tr>\n",
       "    <tr>\n",
       "      <th>5</th>\n",
       "      <td>6</td>\n",
       "      <td>238 days</td>\n",
       "    </tr>\n",
       "    <tr>\n",
       "      <th>6</th>\n",
       "      <td>7</td>\n",
       "      <td>238 days</td>\n",
       "    </tr>\n",
       "    <tr>\n",
       "      <th>7</th>\n",
       "      <td>8</td>\n",
       "      <td>238 days</td>\n",
       "    </tr>\n",
       "    <tr>\n",
       "      <th>8</th>\n",
       "      <td>9</td>\n",
       "      <td>231 days</td>\n",
       "    </tr>\n",
       "    <tr>\n",
       "      <th>9</th>\n",
       "      <td>10</td>\n",
       "      <td>217 days</td>\n",
       "    </tr>\n",
       "    <tr>\n",
       "      <th>10</th>\n",
       "      <td>11</td>\n",
       "      <td>217 days</td>\n",
       "    </tr>\n",
       "    <tr>\n",
       "      <th>11</th>\n",
       "      <td>12</td>\n",
       "      <td>224 days</td>\n",
       "    </tr>\n",
       "    <tr>\n",
       "      <th>12</th>\n",
       "      <td>13</td>\n",
       "      <td>203 days</td>\n",
       "    </tr>\n",
       "    <tr>\n",
       "      <th>13</th>\n",
       "      <td>14</td>\n",
       "      <td>126 days</td>\n",
       "    </tr>\n",
       "    <tr>\n",
       "      <th>14</th>\n",
       "      <td>15</td>\n",
       "      <td>42 days</td>\n",
       "    </tr>\n",
       "  </tbody>\n",
       "</table>\n",
       "</div>"
      ],
      "text/plain": [
       "    season_number episode_airdate\n",
       "0               1        230 days\n",
       "1               2        238 days\n",
       "2               3        238 days\n",
       "3               4        238 days\n",
       "4               5        245 days\n",
       "5               6        238 days\n",
       "6               7        238 days\n",
       "7               8        238 days\n",
       "8               9        231 days\n",
       "9              10        217 days\n",
       "10             11        217 days\n",
       "11             12        224 days\n",
       "12             13        203 days\n",
       "13             14        126 days\n",
       "14             15         42 days"
      ]
     },
     "execution_count": 76,
     "metadata": {},
     "output_type": "execute_result"
    }
   ],
   "source": [
    "#the length of each season\n",
    "#first airdate - last airdate\n",
    "#abs() to show results as absolute value #reset_index() returns season_number as a column\n",
    "\n",
    "season_duration = (cm_df.groupby('season_number')['episode_airdate'].min()\n",
    "                   - cm_df.groupby('season_number')['episode_airdate'].max()).abs().reset_index()\n",
    "season_duration"
   ]
  },
  {
   "cell_type": "code",
   "execution_count": 77,
   "id": "af25b960-86a4-4fbe-a5f1-a414eda5d9e1",
   "metadata": {},
   "outputs": [
    {
     "data": {
      "text/html": [
       "<div>\n",
       "<style scoped>\n",
       "    .dataframe tbody tr th:only-of-type {\n",
       "        vertical-align: middle;\n",
       "    }\n",
       "\n",
       "    .dataframe tbody tr th {\n",
       "        vertical-align: top;\n",
       "    }\n",
       "\n",
       "    .dataframe thead th {\n",
       "        text-align: right;\n",
       "    }\n",
       "</style>\n",
       "<table border=\"1\" class=\"dataframe\">\n",
       "  <thead>\n",
       "    <tr style=\"text-align: right;\">\n",
       "      <th></th>\n",
       "      <th>season_number</th>\n",
       "      <th>episode_number</th>\n",
       "    </tr>\n",
       "  </thead>\n",
       "  <tbody>\n",
       "    <tr>\n",
       "      <th>0</th>\n",
       "      <td>1</td>\n",
       "      <td>22</td>\n",
       "    </tr>\n",
       "    <tr>\n",
       "      <th>1</th>\n",
       "      <td>2</td>\n",
       "      <td>23</td>\n",
       "    </tr>\n",
       "    <tr>\n",
       "      <th>2</th>\n",
       "      <td>3</td>\n",
       "      <td>20</td>\n",
       "    </tr>\n",
       "    <tr>\n",
       "      <th>3</th>\n",
       "      <td>4</td>\n",
       "      <td>25</td>\n",
       "    </tr>\n",
       "    <tr>\n",
       "      <th>4</th>\n",
       "      <td>5</td>\n",
       "      <td>23</td>\n",
       "    </tr>\n",
       "    <tr>\n",
       "      <th>5</th>\n",
       "      <td>6</td>\n",
       "      <td>24</td>\n",
       "    </tr>\n",
       "    <tr>\n",
       "      <th>6</th>\n",
       "      <td>7</td>\n",
       "      <td>24</td>\n",
       "    </tr>\n",
       "    <tr>\n",
       "      <th>7</th>\n",
       "      <td>8</td>\n",
       "      <td>24</td>\n",
       "    </tr>\n",
       "    <tr>\n",
       "      <th>8</th>\n",
       "      <td>9</td>\n",
       "      <td>24</td>\n",
       "    </tr>\n",
       "    <tr>\n",
       "      <th>9</th>\n",
       "      <td>10</td>\n",
       "      <td>23</td>\n",
       "    </tr>\n",
       "    <tr>\n",
       "      <th>10</th>\n",
       "      <td>11</td>\n",
       "      <td>22</td>\n",
       "    </tr>\n",
       "    <tr>\n",
       "      <th>11</th>\n",
       "      <td>12</td>\n",
       "      <td>22</td>\n",
       "    </tr>\n",
       "    <tr>\n",
       "      <th>12</th>\n",
       "      <td>13</td>\n",
       "      <td>22</td>\n",
       "    </tr>\n",
       "    <tr>\n",
       "      <th>13</th>\n",
       "      <td>14</td>\n",
       "      <td>15</td>\n",
       "    </tr>\n",
       "    <tr>\n",
       "      <th>14</th>\n",
       "      <td>15</td>\n",
       "      <td>10</td>\n",
       "    </tr>\n",
       "  </tbody>\n",
       "</table>\n",
       "</div>"
      ],
      "text/plain": [
       "    season_number  episode_number\n",
       "0               1              22\n",
       "1               2              23\n",
       "2               3              20\n",
       "3               4              25\n",
       "4               5              23\n",
       "5               6              24\n",
       "6               7              24\n",
       "7               8              24\n",
       "8               9              24\n",
       "9              10              23\n",
       "10             11              22\n",
       "11             12              22\n",
       "12             13              22\n",
       "13             14              15\n",
       "14             15              10"
      ]
     },
     "execution_count": 77,
     "metadata": {},
     "output_type": "execute_result"
    }
   ],
   "source": [
    "cm_df.groupby('season_number')['episode_number'].count().reset_index()"
   ]
  },
  {
   "cell_type": "markdown",
   "id": "9f75a13f-e6e4-40f1-a7b4-3729387130e0",
   "metadata": {},
   "source": [
    "season 15 only aired for 42 days making it the most shortlived season of the show, and with only 10 episodes it has the lowest episode count"
   ]
  },
  {
   "cell_type": "code",
   "execution_count": 78,
   "id": "14217525-67ab-4457-b30f-06a58dab3a22",
   "metadata": {
    "tags": []
   },
   "outputs": [
    {
     "data": {
      "text/plain": [
       "4.71"
      ]
     },
     "execution_count": 78,
     "metadata": {},
     "output_type": "execute_result"
    }
   ],
   "source": [
    "cm_df[cm_df['season_number']==15].us_viewers_in_millions.mean().round(2)"
   ]
  },
  {
   "cell_type": "markdown",
   "id": "1201a0f0-edee-46ac-abd2-faa703edb4e9",
   "metadata": {},
   "source": [
    "#### Duration between Season Releases"
   ]
  },
  {
   "cell_type": "code",
   "execution_count": 110,
   "id": "936378e3-2d99-4258-a6ca-19aed095fd36",
   "metadata": {},
   "outputs": [],
   "source": [
    "cm_df2 = cm_df[['season_number','episode_number']]\n",
    "cm_df2['season_start'] = cm_df.groupby('season_number')['episode_airdate'].transform('min')\n",
    "cm_df2['season_end'] = cm_df.groupby('season_number')['episode_airdate'].transform('max')"
   ]
  },
  {
   "cell_type": "code",
   "execution_count": 114,
   "id": "a78a5d42-7f20-46b0-92c5-b3521fc87c2f",
   "metadata": {},
   "outputs": [
    {
     "data": {
      "text/html": [
       "<div>\n",
       "<style scoped>\n",
       "    .dataframe tbody tr th:only-of-type {\n",
       "        vertical-align: middle;\n",
       "    }\n",
       "\n",
       "    .dataframe tbody tr th {\n",
       "        vertical-align: top;\n",
       "    }\n",
       "\n",
       "    .dataframe thead th {\n",
       "        text-align: right;\n",
       "    }\n",
       "</style>\n",
       "<table border=\"1\" class=\"dataframe\">\n",
       "  <thead>\n",
       "    <tr style=\"text-align: right;\">\n",
       "      <th></th>\n",
       "      <th>season_number</th>\n",
       "      <th>episode_number</th>\n",
       "      <th>season_start</th>\n",
       "      <th>season_end</th>\n",
       "    </tr>\n",
       "  </thead>\n",
       "  <tbody>\n",
       "    <tr>\n",
       "      <th>89</th>\n",
       "      <td>4</td>\n",
       "      <td>25</td>\n",
       "      <td>2008-09-24</td>\n",
       "      <td>2009-05-20</td>\n",
       "    </tr>\n",
       "    <tr>\n",
       "      <th>48</th>\n",
       "      <td>3</td>\n",
       "      <td>4</td>\n",
       "      <td>2007-09-26</td>\n",
       "      <td>2008-05-21</td>\n",
       "    </tr>\n",
       "    <tr>\n",
       "      <th>152</th>\n",
       "      <td>7</td>\n",
       "      <td>16</td>\n",
       "      <td>2011-09-21</td>\n",
       "      <td>2012-05-16</td>\n",
       "    </tr>\n",
       "    <tr>\n",
       "      <th>112</th>\n",
       "      <td>5</td>\n",
       "      <td>23</td>\n",
       "      <td>2009-09-23</td>\n",
       "      <td>2010-05-26</td>\n",
       "    </tr>\n",
       "    <tr>\n",
       "      <th>137</th>\n",
       "      <td>7</td>\n",
       "      <td>1</td>\n",
       "      <td>2011-09-21</td>\n",
       "      <td>2012-05-16</td>\n",
       "    </tr>\n",
       "  </tbody>\n",
       "</table>\n",
       "</div>"
      ],
      "text/plain": [
       "     season_number  episode_number season_start season_end\n",
       "89               4              25   2008-09-24 2009-05-20\n",
       "48               3               4   2007-09-26 2008-05-21\n",
       "152              7              16   2011-09-21 2012-05-16\n",
       "112              5              23   2009-09-23 2010-05-26\n",
       "137              7               1   2011-09-21 2012-05-16"
      ]
     },
     "execution_count": 114,
     "metadata": {},
     "output_type": "execute_result"
    }
   ],
   "source": [
    "cm_df2.sample(5)"
   ]
  },
  {
   "cell_type": "code",
   "execution_count": 115,
   "id": "a9643fbf-7ba6-46a4-9fa0-2ba8439509d8",
   "metadata": {},
   "outputs": [
    {
     "data": {
      "text/html": [
       "<div>\n",
       "<style scoped>\n",
       "    .dataframe tbody tr th:only-of-type {\n",
       "        vertical-align: middle;\n",
       "    }\n",
       "\n",
       "    .dataframe tbody tr th {\n",
       "        vertical-align: top;\n",
       "    }\n",
       "\n",
       "    .dataframe thead th {\n",
       "        text-align: right;\n",
       "    }\n",
       "</style>\n",
       "<table border=\"1\" class=\"dataframe\">\n",
       "  <thead>\n",
       "    <tr style=\"text-align: right;\">\n",
       "      <th></th>\n",
       "      <th>season_number</th>\n",
       "      <th>season_start</th>\n",
       "      <th>season_end</th>\n",
       "    </tr>\n",
       "  </thead>\n",
       "  <tbody>\n",
       "    <tr>\n",
       "      <th>0</th>\n",
       "      <td>1</td>\n",
       "      <td>2005-09-22</td>\n",
       "      <td>2006-05-10</td>\n",
       "    </tr>\n",
       "    <tr>\n",
       "      <th>1</th>\n",
       "      <td>2</td>\n",
       "      <td>2006-09-20</td>\n",
       "      <td>2007-05-16</td>\n",
       "    </tr>\n",
       "    <tr>\n",
       "      <th>2</th>\n",
       "      <td>3</td>\n",
       "      <td>2007-09-26</td>\n",
       "      <td>2008-05-21</td>\n",
       "    </tr>\n",
       "    <tr>\n",
       "      <th>3</th>\n",
       "      <td>4</td>\n",
       "      <td>2008-09-24</td>\n",
       "      <td>2009-05-20</td>\n",
       "    </tr>\n",
       "    <tr>\n",
       "      <th>4</th>\n",
       "      <td>5</td>\n",
       "      <td>2009-09-23</td>\n",
       "      <td>2010-05-26</td>\n",
       "    </tr>\n",
       "    <tr>\n",
       "      <th>5</th>\n",
       "      <td>6</td>\n",
       "      <td>2010-09-22</td>\n",
       "      <td>2011-05-18</td>\n",
       "    </tr>\n",
       "    <tr>\n",
       "      <th>6</th>\n",
       "      <td>7</td>\n",
       "      <td>2011-09-21</td>\n",
       "      <td>2012-05-16</td>\n",
       "    </tr>\n",
       "    <tr>\n",
       "      <th>7</th>\n",
       "      <td>8</td>\n",
       "      <td>2012-09-26</td>\n",
       "      <td>2013-05-22</td>\n",
       "    </tr>\n",
       "    <tr>\n",
       "      <th>8</th>\n",
       "      <td>9</td>\n",
       "      <td>2013-09-25</td>\n",
       "      <td>2014-05-14</td>\n",
       "    </tr>\n",
       "    <tr>\n",
       "      <th>9</th>\n",
       "      <td>10</td>\n",
       "      <td>2014-10-01</td>\n",
       "      <td>2015-05-06</td>\n",
       "    </tr>\n",
       "    <tr>\n",
       "      <th>10</th>\n",
       "      <td>11</td>\n",
       "      <td>2015-09-30</td>\n",
       "      <td>2016-05-04</td>\n",
       "    </tr>\n",
       "    <tr>\n",
       "      <th>11</th>\n",
       "      <td>12</td>\n",
       "      <td>2016-09-28</td>\n",
       "      <td>2017-05-10</td>\n",
       "    </tr>\n",
       "    <tr>\n",
       "      <th>12</th>\n",
       "      <td>13</td>\n",
       "      <td>2017-09-27</td>\n",
       "      <td>2018-04-18</td>\n",
       "    </tr>\n",
       "    <tr>\n",
       "      <th>13</th>\n",
       "      <td>14</td>\n",
       "      <td>2018-10-03</td>\n",
       "      <td>2019-02-06</td>\n",
       "    </tr>\n",
       "    <tr>\n",
       "      <th>14</th>\n",
       "      <td>15</td>\n",
       "      <td>2020-01-08</td>\n",
       "      <td>2020-02-19</td>\n",
       "    </tr>\n",
       "  </tbody>\n",
       "</table>\n",
       "</div>"
      ],
      "text/plain": [
       "    season_number season_start season_end\n",
       "0               1   2005-09-22 2006-05-10\n",
       "1               2   2006-09-20 2007-05-16\n",
       "2               3   2007-09-26 2008-05-21\n",
       "3               4   2008-09-24 2009-05-20\n",
       "4               5   2009-09-23 2010-05-26\n",
       "5               6   2010-09-22 2011-05-18\n",
       "6               7   2011-09-21 2012-05-16\n",
       "7               8   2012-09-26 2013-05-22\n",
       "8               9   2013-09-25 2014-05-14\n",
       "9              10   2014-10-01 2015-05-06\n",
       "10             11   2015-09-30 2016-05-04\n",
       "11             12   2016-09-28 2017-05-10\n",
       "12             13   2017-09-27 2018-04-18\n",
       "13             14   2018-10-03 2019-02-06\n",
       "14             15   2020-01-08 2020-02-19"
      ]
     },
     "execution_count": 115,
     "metadata": {},
     "output_type": "execute_result"
    }
   ],
   "source": [
    "#when each season started and ended\n",
    "cm_df2.groupby('season_number')[['season_start','season_end']].max().reset_index()"
   ]
  },
  {
   "cell_type": "code",
   "execution_count": 121,
   "id": "00e095b1-f000-4a23-971a-a3d9198dc592",
   "metadata": {},
   "outputs": [
    {
     "name": "stdout",
     "output_type": "stream",
     "text": [
      "NaT\n",
      "-133 days +00:00:00\n",
      "-133 days +00:00:00\n",
      "-126 days +00:00:00\n",
      "-126 days +00:00:00\n",
      "-119 days +00:00:00\n",
      "-126 days +00:00:00\n",
      "-133 days +00:00:00\n",
      "-126 days +00:00:00\n",
      "-140 days +00:00:00\n",
      "-147 days +00:00:00\n",
      "-147 days +00:00:00\n",
      "-140 days +00:00:00\n",
      "-168 days +00:00:00\n",
      "-336 days +00:00:00\n"
     ]
    }
   ],
   "source": [
    "#get the difference between the start date of a season and the end date of the previous series\n",
    "for season_no in range(15):\n",
    "    release_gap = cm_df2[cm_df2.season_number == season_no].season_end.max() - cm_df2[cm_df2.season_number == season_no+1].season_start.min()\n",
    "    release_gap = release_gap\n",
    "    \n",
    "    print(release_gap)"
   ]
  },
  {
   "cell_type": "markdown",
   "id": "a5055f40-6352-4de0-86c7-851af974c58a",
   "metadata": {},
   "source": [
    "After season 14 it took 336 days for the show to air again, almost twice longer than it took for the other seasons"
   ]
  },
  {
   "cell_type": "code",
   "execution_count": 124,
   "id": "376a2c4b-22cf-427b-abf4-eaf2ec2400bb",
   "metadata": {},
   "outputs": [
    {
     "data": {
      "text/plain": [
       "Timedelta('-336 days +00:00:00')"
      ]
     },
     "execution_count": 124,
     "metadata": {},
     "output_type": "execute_result"
    }
   ],
   "source": [
    "#confirmation\n",
    "cm_df2[cm_df2.season_number == 14].season_end.max() - cm_df2[cm_df2.season_number == 15].season_start.min()"
   ]
  },
  {
   "cell_type": "code",
   "execution_count": null,
   "id": "522b5590-f720-4ca5-a0e3-bebd26bd5582",
   "metadata": {},
   "outputs": [],
   "source": []
  }
 ],
 "metadata": {
  "kernelspec": {
   "display_name": "Python 3 (ipykernel)",
   "language": "python",
   "name": "python3"
  },
  "language_info": {
   "codemirror_mode": {
    "name": "ipython",
    "version": 3
   },
   "file_extension": ".py",
   "mimetype": "text/x-python",
   "name": "python",
   "nbconvert_exporter": "python",
   "pygments_lexer": "ipython3",
   "version": "3.10.4"
  }
 },
 "nbformat": 4,
 "nbformat_minor": 5
}
