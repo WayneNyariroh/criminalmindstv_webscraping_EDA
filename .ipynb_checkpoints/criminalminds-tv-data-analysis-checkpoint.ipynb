{
 "cells": [
  {
   "cell_type": "markdown",
   "id": "b2971960-c531-49b3-bf64-86b5882f28ca",
   "metadata": {
    "tags": []
   },
   "source": [
    "## A Quick EDA of the Scrapped Data"
   ]
  },
  {
   "cell_type": "markdown",
   "id": "9db2958d-4f26-457d-915e-ec36bd4f8ec6",
   "metadata": {},
   "source": [
    "### Basic Stats"
   ]
  },
  {
   "cell_type": "code",
   "execution_count": 1,
   "id": "4e19cf4b-bff4-49d0-b2e3-99891c7c2973",
   "metadata": {},
   "outputs": [],
   "source": [
    "%store -r cm_df"
   ]
  },
  {
   "cell_type": "code",
   "execution_count": 2,
   "id": "55266315-cdcd-44ef-ae41-a88b1562744d",
   "metadata": {},
   "outputs": [
    {
     "data": {
      "text/html": [
       "<div>\n",
       "<style scoped>\n",
       "    .dataframe tbody tr th:only-of-type {\n",
       "        vertical-align: middle;\n",
       "    }\n",
       "\n",
       "    .dataframe tbody tr th {\n",
       "        vertical-align: top;\n",
       "    }\n",
       "\n",
       "    .dataframe thead th {\n",
       "        text-align: right;\n",
       "    }\n",
       "</style>\n",
       "<table border=\"1\" class=\"dataframe\">\n",
       "  <thead>\n",
       "    <tr style=\"text-align: right;\">\n",
       "      <th></th>\n",
       "      <th>count</th>\n",
       "      <th>mean</th>\n",
       "      <th>std</th>\n",
       "      <th>min</th>\n",
       "      <th>25%</th>\n",
       "      <th>50%</th>\n",
       "      <th>75%</th>\n",
       "      <th>max</th>\n",
       "    </tr>\n",
       "  </thead>\n",
       "  <tbody>\n",
       "    <tr>\n",
       "      <th>season_number</th>\n",
       "      <td>323.0</td>\n",
       "      <td>7.569659</td>\n",
       "      <td>4.064382</td>\n",
       "      <td>1.00</td>\n",
       "      <td>4.00</td>\n",
       "      <td>8.00</td>\n",
       "      <td>11.000</td>\n",
       "      <td>15.00</td>\n",
       "    </tr>\n",
       "    <tr>\n",
       "      <th>episode_number_overall</th>\n",
       "      <td>323.0</td>\n",
       "      <td>162.000000</td>\n",
       "      <td>93.386294</td>\n",
       "      <td>1.00</td>\n",
       "      <td>81.50</td>\n",
       "      <td>162.00</td>\n",
       "      <td>242.500</td>\n",
       "      <td>323.00</td>\n",
       "    </tr>\n",
       "    <tr>\n",
       "      <th>episode_number</th>\n",
       "      <td>323.0</td>\n",
       "      <td>11.609907</td>\n",
       "      <td>6.648880</td>\n",
       "      <td>1.00</td>\n",
       "      <td>6.00</td>\n",
       "      <td>11.00</td>\n",
       "      <td>17.000</td>\n",
       "      <td>25.00</td>\n",
       "    </tr>\n",
       "    <tr>\n",
       "      <th>imdb_rating</th>\n",
       "      <td>323.0</td>\n",
       "      <td>7.660062</td>\n",
       "      <td>0.428615</td>\n",
       "      <td>6.60</td>\n",
       "      <td>7.40</td>\n",
       "      <td>7.60</td>\n",
       "      <td>7.900</td>\n",
       "      <td>9.10</td>\n",
       "    </tr>\n",
       "    <tr>\n",
       "      <th>imdb_votes</th>\n",
       "      <td>323.0</td>\n",
       "      <td>1858.201238</td>\n",
       "      <td>546.490520</td>\n",
       "      <td>524.00</td>\n",
       "      <td>1585.50</td>\n",
       "      <td>1839.00</td>\n",
       "      <td>2136.500</td>\n",
       "      <td>3784.00</td>\n",
       "    </tr>\n",
       "    <tr>\n",
       "      <th>us_viewers_in_millions</th>\n",
       "      <td>323.0</td>\n",
       "      <td>11.254241</td>\n",
       "      <td>3.512967</td>\n",
       "      <td>3.74</td>\n",
       "      <td>9.08</td>\n",
       "      <td>11.98</td>\n",
       "      <td>13.775</td>\n",
       "      <td>26.31</td>\n",
       "    </tr>\n",
       "  </tbody>\n",
       "</table>\n",
       "</div>"
      ],
      "text/plain": [
       "                        count         mean         std     min      25%  \\\n",
       "season_number           323.0     7.569659    4.064382    1.00     4.00   \n",
       "episode_number_overall  323.0   162.000000   93.386294    1.00    81.50   \n",
       "episode_number          323.0    11.609907    6.648880    1.00     6.00   \n",
       "imdb_rating             323.0     7.660062    0.428615    6.60     7.40   \n",
       "imdb_votes              323.0  1858.201238  546.490520  524.00  1585.50   \n",
       "us_viewers_in_millions  323.0    11.254241    3.512967    3.74     9.08   \n",
       "\n",
       "                            50%       75%      max  \n",
       "season_number              8.00    11.000    15.00  \n",
       "episode_number_overall   162.00   242.500   323.00  \n",
       "episode_number            11.00    17.000    25.00  \n",
       "imdb_rating                7.60     7.900     9.10  \n",
       "imdb_votes              1839.00  2136.500  3784.00  \n",
       "us_viewers_in_millions    11.98    13.775    26.31  "
      ]
     },
     "execution_count": 2,
     "metadata": {},
     "output_type": "execute_result"
    }
   ],
   "source": [
    "cm_df.describe().T"
   ]
  },
  {
   "cell_type": "code",
   "execution_count": 3,
   "id": "680e69fb-8e41-4f4f-9aed-ffbd9d094c28",
   "metadata": {},
   "outputs": [
    {
     "data": {
      "text/plain": [
       "7.66"
      ]
     },
     "execution_count": 3,
     "metadata": {},
     "output_type": "execute_result"
    }
   ],
   "source": [
    "cm_df.imdb_rating.mean().round(2)"
   ]
  },
  {
   "cell_type": "code",
   "execution_count": 4,
   "id": "70f31fd7-8c68-49fe-9b32-77e7252330a4",
   "metadata": {},
   "outputs": [
    {
     "name": "stdout",
     "output_type": "stream",
     "text": [
      "Highest Episode Rating in the series is 9.1\n",
      "Lowest Episode Rating in the series is 6.6\n"
     ]
    }
   ],
   "source": [
    "print(f'Highest Episode Rating in the series is {cm_df.imdb_rating.max()}')\n",
    "print(f'Lowest Episode Rating in the series is {cm_df.imdb_rating.min()}')"
   ]
  },
  {
   "cell_type": "code",
   "execution_count": 5,
   "id": "019756cf-8fea-4ba6-8460-9c3d8d0221e5",
   "metadata": {},
   "outputs": [
    {
     "name": "stdout",
     "output_type": "stream",
     "text": [
      "Average Viewers for the series is 11.25 Million\n"
     ]
    }
   ],
   "source": [
    "print(f'Average Viewers for the series is {cm_df.us_viewers_in_millions.mean().round(2)} Million')"
   ]
  },
  {
   "cell_type": "code",
   "execution_count": 6,
   "id": "25290487-04e7-47b5-927e-a83bc00caed1",
   "metadata": {},
   "outputs": [
    {
     "data": {
      "text/plain": [
       "season_number\n",
       "1     7.1\n",
       "2     7.1\n",
       "3     7.4\n",
       "4     7.0\n",
       "5     7.2\n",
       "6     7.2\n",
       "7     7.2\n",
       "8     7.1\n",
       "9     7.4\n",
       "10    7.0\n",
       "11    6.6\n",
       "12    6.8\n",
       "13    6.9\n",
       "14    7.1\n",
       "15    7.1\n",
       "Name: imdb_rating, dtype: float64"
      ]
     },
     "execution_count": 6,
     "metadata": {},
     "output_type": "execute_result"
    }
   ],
   "source": [
    "#lowest rating in each season\n",
    "cm_df.groupby('season_number')['imdb_rating'].min()"
   ]
  },
  {
   "cell_type": "code",
   "execution_count": 7,
   "id": "a85f2ef3-ab36-469f-a592-68ed24f65137",
   "metadata": {},
   "outputs": [
    {
     "data": {
      "text/plain": [
       "season_number\n",
       "1     8.5\n",
       "2     8.8\n",
       "3     8.6\n",
       "4     8.5\n",
       "5     9.1\n",
       "6     8.6\n",
       "7     8.4\n",
       "8     8.6\n",
       "9     8.6\n",
       "10    8.7\n",
       "11    9.1\n",
       "12    8.3\n",
       "13    8.5\n",
       "14    8.3\n",
       "15    8.6\n",
       "Name: imdb_rating, dtype: float64"
      ]
     },
     "execution_count": 7,
     "metadata": {},
     "output_type": "execute_result"
    }
   ],
   "source": [
    "#highest rating in each season\n",
    "cm_df.groupby('season_number')['imdb_rating'].max()"
   ]
  },
  {
   "cell_type": "code",
   "execution_count": 8,
   "id": "7a0c8b1c-c4b0-4ef8-9d71-d129f85a0e40",
   "metadata": {},
   "outputs": [
    {
     "data": {
      "text/plain": [
       "season_number\n",
       "1     10.57\n",
       "2     12.80\n",
       "3     12.66\n",
       "4     12.48\n",
       "5     12.39\n",
       "6     12.02\n",
       "7     11.34\n",
       "8     10.08\n",
       "9      9.42\n",
       "10     8.72\n",
       "11     7.64\n",
       "12     6.54\n",
       "13     5.04\n",
       "14     4.29\n",
       "15     3.74\n",
       "Name: us_viewers_in_millions, dtype: float64"
      ]
     },
     "execution_count": 8,
     "metadata": {},
     "output_type": "execute_result"
    }
   ],
   "source": [
    "#lowest viewership in each season\n",
    "cm_df.groupby('season_number')['us_viewers_in_millions'].min()"
   ]
  },
  {
   "cell_type": "code",
   "execution_count": 9,
   "id": "1dbfbc5c-2a76-4bf3-8ac6-6df93204f178",
   "metadata": {},
   "outputs": [
    {
     "data": {
      "text/plain": [
       "season_number\n",
       "1     19.57\n",
       "2     26.31\n",
       "3     16.23\n",
       "4     17.01\n",
       "5     15.85\n",
       "6     14.58\n",
       "7     14.14\n",
       "8     12.64\n",
       "9     12.92\n",
       "10    11.74\n",
       "11    10.94\n",
       "12     8.92\n",
       "13     7.00\n",
       "14     5.50\n",
       "15     5.88\n",
       "Name: us_viewers_in_millions, dtype: float64"
      ]
     },
     "execution_count": 9,
     "metadata": {},
     "output_type": "execute_result"
    }
   ],
   "source": [
    "#highest viewership in each season\n",
    "cm_df.groupby('season_number')['us_viewers_in_millions'].max()"
   ]
  },
  {
   "cell_type": "code",
   "execution_count": 10,
   "id": "27acc3c3-d999-46cb-8125-b0b9a3992e96",
   "metadata": {},
   "outputs": [
    {
     "data": {
      "text/plain": [
       "season_number\n",
       "1     13.88\n",
       "2     15.87\n",
       "3     14.07\n",
       "4     14.39\n",
       "5     13.70\n",
       "6     13.62\n",
       "7     12.64\n",
       "8     11.43\n",
       "9     10.88\n",
       "10    10.31\n",
       "11     9.01\n",
       "12     7.47\n",
       "13     5.73\n",
       "14     4.67\n",
       "15     4.71\n",
       "Name: us_viewers_in_millions, dtype: float64"
      ]
     },
     "execution_count": 10,
     "metadata": {},
     "output_type": "execute_result"
    }
   ],
   "source": [
    "#avg million viewers each season\n",
    "cm_df.groupby('season_number')['us_viewers_in_millions'].mean().round(2)"
   ]
  },
  {
   "cell_type": "markdown",
   "id": "3c525453-d161-4232-9509-879e45d50463",
   "metadata": {},
   "source": [
    "### Viewership Trend"
   ]
  },
  {
   "cell_type": "code",
   "execution_count": 11,
   "id": "c5b610b4-fe78-47b2-9f00-92fc7906a9df",
   "metadata": {},
   "outputs": [],
   "source": [
    "import matplotlib.pyplot as plt"
   ]
  },
  {
   "cell_type": "code",
   "execution_count": 12,
   "id": "bac31bc9-50ff-4d89-b76b-7d2c4a14577c",
   "metadata": {
    "tags": []
   },
   "outputs": [
    {
     "data": {
      "text/plain": [
       "<matplotlib.legend.Legend at 0x1aaab889570>"
      ]
     },
     "execution_count": 12,
     "metadata": {},
     "output_type": "execute_result"
    },
    {
     "data": {
      "image/png": "[encoded data removed]",
      "text/plain": [
       "<Figure size 1008x360 with 1 Axes>"
      ]
     },
     "metadata": {
      "needs_background": "light"
     },
     "output_type": "display_data"
    }
   ],
   "source": [
    "#avg viewership for each season plotted\n",
    "cm_df.groupby('season_number')['us_viewers_in_millions'].mean().round(2).plot.bar(\n",
    "    plt.style.use('seaborn'), plt.figure(figsize=(14,5)),\n",
    "    title='Average US Viewers Each Season of Criminal Minds',\n",
    "    ylabel='US Viewers in Millions', xlabel='Season')\n",
    "\n",
    "plt.axhline(y=cm_df.us_viewers_in_millions.mean().round(2),\n",
    "            label=f'series average ({cm_df.us_viewers_in_millions.mean().round(2)} million)',\n",
    "            c='red', ls='--')\n",
    "plt.legend()"
   ]
  },
  {
   "cell_type": "markdown",
   "id": "bbffbc13-6c79-43fe-9202-19d48d79f4ca",
   "metadata": {},
   "source": [
    "Viewership in US goes below the series average of 11.25 Million after season 8"
   ]
  },
  {
   "cell_type": "code",
   "execution_count": 13,
   "id": "3476d3c1-c111-4b5f-a759-0e7478df85c3",
   "metadata": {},
   "outputs": [
    {
     "data": {
      "text/plain": [
       "<matplotlib.legend.Legend at 0x1aaadd83fd0>"
      ]
     },
     "execution_count": 13,
     "metadata": {},
     "output_type": "execute_result"
    },
    {
     "data": {
      "image/png": "[encoded data removed]",
      "text/plain": [
       "<Figure size 1440x576 with 1 Axes>"
      ]
     },
     "metadata": {},
     "output_type": "display_data"
    }
   ],
   "source": [
    "cm_df.groupby('episode_airdate')['us_viewers_in_millions'].mean().round(2).plot.line(\n",
    "    plt.style.use('seaborn'), plt.figure(figsize=(20,8)))\n",
    "\n",
    "plt.axhline(y=cm_df.us_viewers_in_millions.mean().round(2),\n",
    "            label=f'series average ({cm_df.us_viewers_in_millions.mean().round(2)} million)',\n",
    "            c='red', ls='--')\n",
    "plt.legend()"
   ]
  },
  {
   "cell_type": "markdown",
   "id": "ae56cf8d-b674-4342-8b4d-d6935ac302ce",
   "metadata": {},
   "source": [
    "### Episode Ratings Distribution"
   ]
  },
  {
   "cell_type": "code",
   "execution_count": 14,
   "id": "b41372fa-0013-4d0d-8d2a-a42d6da40ed8",
   "metadata": {},
   "outputs": [],
   "source": [
    "import seaborn as sns"
   ]
  },
  {
   "cell_type": "code",
   "execution_count": 15,
   "id": "844cad96-5c33-421f-ba47-d466107726ca",
   "metadata": {
    "tags": []
   },
   "outputs": [
    {
     "data": {
      "text/plain": [
       "<matplotlib.legend.Legend at 0x1aacdfc9ab0>"
      ]
     },
     "execution_count": 15,
     "metadata": {},
     "output_type": "execute_result"
    },
    {
     "data": {
      "image/png": "[encoded data removed]",
      "text/plain": [
       "<Figure size 864x432 with 1 Axes>"
      ]
     },
     "metadata": {},
     "output_type": "display_data"
    }
   ],
   "source": [
    "plt.figure(figsize=(12,6))\n",
    "sns.scatterplot(data=cm_df, x='episode_airdate', y='imdb_rating')\n",
    "plt.title('Criminal Minds Episode Ratings')\n",
    "\n",
    "plt.axhline(y=cm_df.imdb_rating.mean().round(2), \n",
    "            label=f'average imdb rating ({cm_df.imdb_rating.mean().round(2)})',\n",
    "            ls='--', c='red')\n",
    "\n",
    "plt.legend()"
   ]
  },
  {
   "cell_type": "code",
   "execution_count": 16,
   "id": "60cdfffd-3c13-4087-bae9-6beb31dcf0da",
   "metadata": {},
   "outputs": [
    {
     "data": {
      "text/html": [
       "<div>\n",
       "<style scoped>\n",
       "    .dataframe tbody tr th:only-of-type {\n",
       "        vertical-align: middle;\n",
       "    }\n",
       "\n",
       "    .dataframe tbody tr th {\n",
       "        vertical-align: top;\n",
       "    }\n",
       "\n",
       "    .dataframe thead th {\n",
       "        text-align: right;\n",
       "    }\n",
       "</style>\n",
       "<table border=\"1\" class=\"dataframe\">\n",
       "  <thead>\n",
       "    <tr style=\"text-align: right;\">\n",
       "      <th></th>\n",
       "      <th>season_number</th>\n",
       "      <th>episode_number</th>\n",
       "    </tr>\n",
       "  </thead>\n",
       "  <tbody>\n",
       "    <tr>\n",
       "      <th>0</th>\n",
       "      <td>1</td>\n",
       "      <td>12</td>\n",
       "    </tr>\n",
       "    <tr>\n",
       "      <th>1</th>\n",
       "      <td>2</td>\n",
       "      <td>5</td>\n",
       "    </tr>\n",
       "    <tr>\n",
       "      <th>2</th>\n",
       "      <td>3</td>\n",
       "      <td>8</td>\n",
       "    </tr>\n",
       "    <tr>\n",
       "      <th>3</th>\n",
       "      <td>4</td>\n",
       "      <td>8</td>\n",
       "    </tr>\n",
       "    <tr>\n",
       "      <th>4</th>\n",
       "      <td>5</td>\n",
       "      <td>12</td>\n",
       "    </tr>\n",
       "    <tr>\n",
       "      <th>5</th>\n",
       "      <td>6</td>\n",
       "      <td>14</td>\n",
       "    </tr>\n",
       "    <tr>\n",
       "      <th>6</th>\n",
       "      <td>7</td>\n",
       "      <td>12</td>\n",
       "    </tr>\n",
       "    <tr>\n",
       "      <th>7</th>\n",
       "      <td>8</td>\n",
       "      <td>15</td>\n",
       "    </tr>\n",
       "    <tr>\n",
       "      <th>8</th>\n",
       "      <td>9</td>\n",
       "      <td>15</td>\n",
       "    </tr>\n",
       "    <tr>\n",
       "      <th>9</th>\n",
       "      <td>10</td>\n",
       "      <td>18</td>\n",
       "    </tr>\n",
       "    <tr>\n",
       "      <th>10</th>\n",
       "      <td>11</td>\n",
       "      <td>16</td>\n",
       "    </tr>\n",
       "    <tr>\n",
       "      <th>11</th>\n",
       "      <td>12</td>\n",
       "      <td>18</td>\n",
       "    </tr>\n",
       "    <tr>\n",
       "      <th>12</th>\n",
       "      <td>13</td>\n",
       "      <td>16</td>\n",
       "    </tr>\n",
       "    <tr>\n",
       "      <th>13</th>\n",
       "      <td>14</td>\n",
       "      <td>11</td>\n",
       "    </tr>\n",
       "    <tr>\n",
       "      <th>14</th>\n",
       "      <td>15</td>\n",
       "      <td>5</td>\n",
       "    </tr>\n",
       "  </tbody>\n",
       "</table>\n",
       "</div>"
      ],
      "text/plain": [
       "    season_number  episode_number\n",
       "0               1              12\n",
       "1               2               5\n",
       "2               3               8\n",
       "3               4               8\n",
       "4               5              12\n",
       "5               6              14\n",
       "6               7              12\n",
       "7               8              15\n",
       "8               9              15\n",
       "9              10              18\n",
       "10             11              16\n",
       "11             12              18\n",
       "12             13              16\n",
       "13             14              11\n",
       "14             15               5"
      ]
     },
     "execution_count": 16,
     "metadata": {},
     "output_type": "execute_result"
    }
   ],
   "source": [
    "#episodes in each season that got ratings below the mean of 7.66\n",
    "#cm_df[cm_df.imdb_rating < cm_df.imdb_rating.mean()]\n",
    "cm_df[cm_df.imdb_rating < cm_df.imdb_rating.mean()].groupby('season_number')['episode_number'].count().reset_index()"
   ]
  },
  {
   "cell_type": "markdown",
   "id": "fdc0aa8f-51a1-45f4-8008-f18cc4bde543",
   "metadata": {},
   "source": [
    "### Release Trends"
   ]
  },
  {
   "cell_type": "code",
   "execution_count": 17,
   "id": "84495154-0156-461f-bdcb-77ac7523eeb2",
   "metadata": {},
   "outputs": [
    {
     "data": {
      "text/plain": [
       "15"
      ]
     },
     "execution_count": 17,
     "metadata": {},
     "output_type": "execute_result"
    }
   ],
   "source": [
    "cm_df.season_number.nunique()"
   ]
  },
  {
   "cell_type": "code",
   "execution_count": 18,
   "id": "c1fdd723-eb78-452f-9879-070cf72e2d31",
   "metadata": {
    "tags": []
   },
   "outputs": [
    {
     "data": {
      "text/plain": [
       "season_number\n",
       "1    2005-09-22\n",
       "2    2006-09-20\n",
       "3    2007-09-26\n",
       "4    2008-09-24\n",
       "5    2009-09-23\n",
       "6    2010-09-22\n",
       "7    2011-09-21\n",
       "8    2012-09-26\n",
       "9    2013-09-25\n",
       "10   2014-10-01\n",
       "11   2015-09-30\n",
       "12   2016-09-28\n",
       "13   2017-09-27\n",
       "14   2018-10-03\n",
       "15   2020-01-08\n",
       "Name: episode_airdate, dtype: datetime64[ns]"
      ]
     },
     "execution_count": 18,
     "metadata": {},
     "output_type": "execute_result"
    }
   ],
   "source": [
    "#the date each season started\n",
    "cm_df.groupby('season_number')['episode_airdate'].min()"
   ]
  },
  {
   "cell_type": "code",
   "execution_count": 19,
   "id": "583e9763-7dca-4505-aacc-a415a5edbe8a",
   "metadata": {},
   "outputs": [
    {
     "data": {
      "text/html": [
       "<div>\n",
       "<style scoped>\n",
       "    .dataframe tbody tr th:only-of-type {\n",
       "        vertical-align: middle;\n",
       "    }\n",
       "\n",
       "    .dataframe tbody tr th {\n",
       "        vertical-align: top;\n",
       "    }\n",
       "\n",
       "    .dataframe thead th {\n",
       "        text-align: right;\n",
       "    }\n",
       "</style>\n",
       "<table border=\"1\" class=\"dataframe\">\n",
       "  <thead>\n",
       "    <tr style=\"text-align: right;\">\n",
       "      <th></th>\n",
       "      <th>season_number</th>\n",
       "      <th>episode_airdate</th>\n",
       "    </tr>\n",
       "  </thead>\n",
       "  <tbody>\n",
       "    <tr>\n",
       "      <th>0</th>\n",
       "      <td>1</td>\n",
       "      <td>230 days</td>\n",
       "    </tr>\n",
       "    <tr>\n",
       "      <th>1</th>\n",
       "      <td>2</td>\n",
       "      <td>238 days</td>\n",
       "    </tr>\n",
       "    <tr>\n",
       "      <th>2</th>\n",
       "      <td>3</td>\n",
       "      <td>238 days</td>\n",
       "    </tr>\n",
       "    <tr>\n",
       "      <th>3</th>\n",
       "      <td>4</td>\n",
       "      <td>238 days</td>\n",
       "    </tr>\n",
       "    <tr>\n",
       "      <th>4</th>\n",
       "      <td>5</td>\n",
       "      <td>245 days</td>\n",
       "    </tr>\n",
       "    <tr>\n",
       "      <th>5</th>\n",
       "      <td>6</td>\n",
       "      <td>238 days</td>\n",
       "    </tr>\n",
       "    <tr>\n",
       "      <th>6</th>\n",
       "      <td>7</td>\n",
       "      <td>238 days</td>\n",
       "    </tr>\n",
       "    <tr>\n",
       "      <th>7</th>\n",
       "      <td>8</td>\n",
       "      <td>238 days</td>\n",
       "    </tr>\n",
       "    <tr>\n",
       "      <th>8</th>\n",
       "      <td>9</td>\n",
       "      <td>231 days</td>\n",
       "    </tr>\n",
       "    <tr>\n",
       "      <th>9</th>\n",
       "      <td>10</td>\n",
       "      <td>217 days</td>\n",
       "    </tr>\n",
       "    <tr>\n",
       "      <th>10</th>\n",
       "      <td>11</td>\n",
       "      <td>217 days</td>\n",
       "    </tr>\n",
       "    <tr>\n",
       "      <th>11</th>\n",
       "      <td>12</td>\n",
       "      <td>224 days</td>\n",
       "    </tr>\n",
       "    <tr>\n",
       "      <th>12</th>\n",
       "      <td>13</td>\n",
       "      <td>203 days</td>\n",
       "    </tr>\n",
       "    <tr>\n",
       "      <th>13</th>\n",
       "      <td>14</td>\n",
       "      <td>126 days</td>\n",
       "    </tr>\n",
       "    <tr>\n",
       "      <th>14</th>\n",
       "      <td>15</td>\n",
       "      <td>42 days</td>\n",
       "    </tr>\n",
       "  </tbody>\n",
       "</table>\n",
       "</div>"
      ],
      "text/plain": [
       "    season_number episode_airdate\n",
       "0               1        230 days\n",
       "1               2        238 days\n",
       "2               3        238 days\n",
       "3               4        238 days\n",
       "4               5        245 days\n",
       "5               6        238 days\n",
       "6               7        238 days\n",
       "7               8        238 days\n",
       "8               9        231 days\n",
       "9              10        217 days\n",
       "10             11        217 days\n",
       "11             12        224 days\n",
       "12             13        203 days\n",
       "13             14        126 days\n",
       "14             15         42 days"
      ]
     },
     "execution_count": 19,
     "metadata": {},
     "output_type": "execute_result"
    }
   ],
   "source": [
    "#the length of each season\n",
    "#first airdate - last airdate\n",
    "#abs() to show results as absolute value #reset_index() returns season_number as a column\n",
    "\n",
    "season_duration = (cm_df.groupby('season_number')['episode_airdate'].min()\n",
    "                   - cm_df.groupby('season_number')['episode_airdate'].max()).abs().reset_index()\n",
    "season_duration"
   ]
  },
  {
   "cell_type": "code",
   "execution_count": 20,
   "id": "af25b960-86a4-4fbe-a5f1-a414eda5d9e1",
   "metadata": {},
   "outputs": [
    {
     "data": {
      "text/html": [
       "<div>\n",
       "<style scoped>\n",
       "    .dataframe tbody tr th:only-of-type {\n",
       "        vertical-align: middle;\n",
       "    }\n",
       "\n",
       "    .dataframe tbody tr th {\n",
       "        vertical-align: top;\n",
       "    }\n",
       "\n",
       "    .dataframe thead th {\n",
       "        text-align: right;\n",
       "    }\n",
       "</style>\n",
       "<table border=\"1\" class=\"dataframe\">\n",
       "  <thead>\n",
       "    <tr style=\"text-align: right;\">\n",
       "      <th></th>\n",
       "      <th>season_number</th>\n",
       "      <th>episode_number</th>\n",
       "    </tr>\n",
       "  </thead>\n",
       "  <tbody>\n",
       "    <tr>\n",
       "      <th>0</th>\n",
       "      <td>1</td>\n",
       "      <td>22</td>\n",
       "    </tr>\n",
       "    <tr>\n",
       "      <th>1</th>\n",
       "      <td>2</td>\n",
       "      <td>23</td>\n",
       "    </tr>\n",
       "    <tr>\n",
       "      <th>2</th>\n",
       "      <td>3</td>\n",
       "      <td>20</td>\n",
       "    </tr>\n",
       "    <tr>\n",
       "      <th>3</th>\n",
       "      <td>4</td>\n",
       "      <td>25</td>\n",
       "    </tr>\n",
       "    <tr>\n",
       "      <th>4</th>\n",
       "      <td>5</td>\n",
       "      <td>23</td>\n",
       "    </tr>\n",
       "    <tr>\n",
       "      <th>5</th>\n",
       "      <td>6</td>\n",
       "      <td>24</td>\n",
       "    </tr>\n",
       "    <tr>\n",
       "      <th>6</th>\n",
       "      <td>7</td>\n",
       "      <td>24</td>\n",
       "    </tr>\n",
       "    <tr>\n",
       "      <th>7</th>\n",
       "      <td>8</td>\n",
       "      <td>24</td>\n",
       "    </tr>\n",
       "    <tr>\n",
       "      <th>8</th>\n",
       "      <td>9</td>\n",
       "      <td>24</td>\n",
       "    </tr>\n",
       "    <tr>\n",
       "      <th>9</th>\n",
       "      <td>10</td>\n",
       "      <td>23</td>\n",
       "    </tr>\n",
       "    <tr>\n",
       "      <th>10</th>\n",
       "      <td>11</td>\n",
       "      <td>22</td>\n",
       "    </tr>\n",
       "    <tr>\n",
       "      <th>11</th>\n",
       "      <td>12</td>\n",
       "      <td>22</td>\n",
       "    </tr>\n",
       "    <tr>\n",
       "      <th>12</th>\n",
       "      <td>13</td>\n",
       "      <td>22</td>\n",
       "    </tr>\n",
       "    <tr>\n",
       "      <th>13</th>\n",
       "      <td>14</td>\n",
       "      <td>15</td>\n",
       "    </tr>\n",
       "    <tr>\n",
       "      <th>14</th>\n",
       "      <td>15</td>\n",
       "      <td>10</td>\n",
       "    </tr>\n",
       "  </tbody>\n",
       "</table>\n",
       "</div>"
      ],
      "text/plain": [
       "    season_number  episode_number\n",
       "0               1              22\n",
       "1               2              23\n",
       "2               3              20\n",
       "3               4              25\n",
       "4               5              23\n",
       "5               6              24\n",
       "6               7              24\n",
       "7               8              24\n",
       "8               9              24\n",
       "9              10              23\n",
       "10             11              22\n",
       "11             12              22\n",
       "12             13              22\n",
       "13             14              15\n",
       "14             15              10"
      ]
     },
     "execution_count": 20,
     "metadata": {},
     "output_type": "execute_result"
    }
   ],
   "source": [
    "cm_df.groupby('season_number')['episode_number'].count().reset_index()"
   ]
  },
  {
   "cell_type": "markdown",
   "id": "9f75a13f-e6e4-40f1-a7b4-3729387130e0",
   "metadata": {},
   "source": [
    "season 15 only aired for 42 days making it the most shortlived season of the show, and with only 10 episodes it has the lowest episode count"
   ]
  },
  {
   "cell_type": "code",
   "execution_count": 21,
   "id": "14217525-67ab-4457-b30f-06a58dab3a22",
   "metadata": {
    "tags": []
   },
   "outputs": [
    {
     "data": {
      "text/plain": [
       "4.71"
      ]
     },
     "execution_count": 21,
     "metadata": {},
     "output_type": "execute_result"
    }
   ],
   "source": [
    "cm_df[cm_df['season_number']==15].us_viewers_in_millions.mean().round(2)"
   ]
  },
  {
   "cell_type": "markdown",
   "id": "1201a0f0-edee-46ac-abd2-faa703edb4e9",
   "metadata": {},
   "source": [
    "#### Duration between Season Releases"
   ]
  },
  {
   "cell_type": "code",
   "execution_count": 22,
   "id": "936378e3-2d99-4258-a6ca-19aed095fd36",
   "metadata": {},
   "outputs": [
    {
     "name": "stderr",
     "output_type": "stream",
     "text": [
      "C:\\Users\\FatherMammoth\\AppData\\Local\\Temp\\ipykernel_14440\\257382961.py:2: SettingWithCopyWarning: \n",
      "A value is trying to be set on a copy of a slice from a DataFrame.\n",
      "Try using .loc[row_indexer,col_indexer] = value instead\n",
      "\n",
      "See the caveats in the documentation: https://pandas.pydata.org/pandas-docs/stable/user_guide/indexing.html#returning-a-view-versus-a-copy\n",
      "  cm_df2['season_start'] = cm_df.groupby('season_number')['episode_airdate'].transform('min')\n",
      "C:\\Users\\FatherMammoth\\AppData\\Local\\Temp\\ipykernel_14440\\257382961.py:3: SettingWithCopyWarning: \n",
      "A value is trying to be set on a copy of a slice from a DataFrame.\n",
      "Try using .loc[row_indexer,col_indexer] = value instead\n",
      "\n",
      "See the caveats in the documentation: https://pandas.pydata.org/pandas-docs/stable/user_guide/indexing.html#returning-a-view-versus-a-copy\n",
      "  cm_df2['season_end'] = cm_df.groupby('season_number')['episode_airdate'].transform('max')\n"
     ]
    }
   ],
   "source": [
    "cm_df2 = cm_df[['season_number','episode_number']]\n",
    "cm_df2['season_start'] = cm_df.groupby('season_number')['episode_airdate'].transform('min')\n",
    "cm_df2['season_end'] = cm_df.groupby('season_number')['episode_airdate'].transform('max')"
   ]
  },
  {
   "cell_type": "code",
   "execution_count": 23,
   "id": "a78a5d42-7f20-46b0-92c5-b3521fc87c2f",
   "metadata": {},
   "outputs": [
    {
     "data": {
      "text/html": [
       "<div>\n",
       "<style scoped>\n",
       "    .dataframe tbody tr th:only-of-type {\n",
       "        vertical-align: middle;\n",
       "    }\n",
       "\n",
       "    .dataframe tbody tr th {\n",
       "        vertical-align: top;\n",
       "    }\n",
       "\n",
       "    .dataframe thead th {\n",
       "        text-align: right;\n",
       "    }\n",
       "</style>\n",
       "<table border=\"1\" class=\"dataframe\">\n",
       "  <thead>\n",
       "    <tr style=\"text-align: right;\">\n",
       "      <th></th>\n",
       "      <th>season_number</th>\n",
       "      <th>episode_number</th>\n",
       "      <th>season_start</th>\n",
       "      <th>season_end</th>\n",
       "    </tr>\n",
       "  </thead>\n",
       "  <tbody>\n",
       "    <tr>\n",
       "      <th>191</th>\n",
       "      <td>9</td>\n",
       "      <td>7</td>\n",
       "      <td>2013-09-25</td>\n",
       "      <td>2014-05-14</td>\n",
       "    </tr>\n",
       "    <tr>\n",
       "      <th>103</th>\n",
       "      <td>5</td>\n",
       "      <td>14</td>\n",
       "      <td>2009-09-23</td>\n",
       "      <td>2010-05-26</td>\n",
       "    </tr>\n",
       "    <tr>\n",
       "      <th>137</th>\n",
       "      <td>7</td>\n",
       "      <td>1</td>\n",
       "      <td>2011-09-21</td>\n",
       "      <td>2012-05-16</td>\n",
       "    </tr>\n",
       "    <tr>\n",
       "      <th>316</th>\n",
       "      <td>15</td>\n",
       "      <td>4</td>\n",
       "      <td>2020-01-08</td>\n",
       "      <td>2020-02-19</td>\n",
       "    </tr>\n",
       "    <tr>\n",
       "      <th>289</th>\n",
       "      <td>13</td>\n",
       "      <td>14</td>\n",
       "      <td>2017-09-27</td>\n",
       "      <td>2018-04-18</td>\n",
       "    </tr>\n",
       "  </tbody>\n",
       "</table>\n",
       "</div>"
      ],
      "text/plain": [
       "     season_number  episode_number season_start season_end\n",
       "191              9               7   2013-09-25 2014-05-14\n",
       "103              5              14   2009-09-23 2010-05-26\n",
       "137              7               1   2011-09-21 2012-05-16\n",
       "316             15               4   2020-01-08 2020-02-19\n",
       "289             13              14   2017-09-27 2018-04-18"
      ]
     },
     "execution_count": 23,
     "metadata": {},
     "output_type": "execute_result"
    }
   ],
   "source": [
    "cm_df2.sample(5)"
   ]
  },
  {
   "cell_type": "code",
   "execution_count": 24,
   "id": "a9643fbf-7ba6-46a4-9fa0-2ba8439509d8",
   "metadata": {},
   "outputs": [
    {
     "data": {
      "text/html": [
       "<div>\n",
       "<style scoped>\n",
       "    .dataframe tbody tr th:only-of-type {\n",
       "        vertical-align: middle;\n",
       "    }\n",
       "\n",
       "    .dataframe tbody tr th {\n",
       "        vertical-align: top;\n",
       "    }\n",
       "\n",
       "    .dataframe thead th {\n",
       "        text-align: right;\n",
       "    }\n",
       "</style>\n",
       "<table border=\"1\" class=\"dataframe\">\n",
       "  <thead>\n",
       "    <tr style=\"text-align: right;\">\n",
       "      <th></th>\n",
       "      <th>season_number</th>\n",
       "      <th>season_start</th>\n",
       "      <th>season_end</th>\n",
       "    </tr>\n",
       "  </thead>\n",
       "  <tbody>\n",
       "    <tr>\n",
       "      <th>0</th>\n",
       "      <td>1</td>\n",
       "      <td>2005-09-22</td>\n",
       "      <td>2006-05-10</td>\n",
       "    </tr>\n",
       "    <tr>\n",
       "      <th>1</th>\n",
       "      <td>2</td>\n",
       "      <td>2006-09-20</td>\n",
       "      <td>2007-05-16</td>\n",
       "    </tr>\n",
       "    <tr>\n",
       "      <th>2</th>\n",
       "      <td>3</td>\n",
       "      <td>2007-09-26</td>\n",
       "      <td>2008-05-21</td>\n",
       "    </tr>\n",
       "    <tr>\n",
       "      <th>3</th>\n",
       "      <td>4</td>\n",
       "      <td>2008-09-24</td>\n",
       "      <td>2009-05-20</td>\n",
       "    </tr>\n",
       "    <tr>\n",
       "      <th>4</th>\n",
       "      <td>5</td>\n",
       "      <td>2009-09-23</td>\n",
       "      <td>2010-05-26</td>\n",
       "    </tr>\n",
       "    <tr>\n",
       "      <th>5</th>\n",
       "      <td>6</td>\n",
       "      <td>2010-09-22</td>\n",
       "      <td>2011-05-18</td>\n",
       "    </tr>\n",
       "    <tr>\n",
       "      <th>6</th>\n",
       "      <td>7</td>\n",
       "      <td>2011-09-21</td>\n",
       "      <td>2012-05-16</td>\n",
       "    </tr>\n",
       "    <tr>\n",
       "      <th>7</th>\n",
       "      <td>8</td>\n",
       "      <td>2012-09-26</td>\n",
       "      <td>2013-05-22</td>\n",
       "    </tr>\n",
       "    <tr>\n",
       "      <th>8</th>\n",
       "      <td>9</td>\n",
       "      <td>2013-09-25</td>\n",
       "      <td>2014-05-14</td>\n",
       "    </tr>\n",
       "    <tr>\n",
       "      <th>9</th>\n",
       "      <td>10</td>\n",
       "      <td>2014-10-01</td>\n",
       "      <td>2015-05-06</td>\n",
       "    </tr>\n",
       "    <tr>\n",
       "      <th>10</th>\n",
       "      <td>11</td>\n",
       "      <td>2015-09-30</td>\n",
       "      <td>2016-05-04</td>\n",
       "    </tr>\n",
       "    <tr>\n",
       "      <th>11</th>\n",
       "      <td>12</td>\n",
       "      <td>2016-09-28</td>\n",
       "      <td>2017-05-10</td>\n",
       "    </tr>\n",
       "    <tr>\n",
       "      <th>12</th>\n",
       "      <td>13</td>\n",
       "      <td>2017-09-27</td>\n",
       "      <td>2018-04-18</td>\n",
       "    </tr>\n",
       "    <tr>\n",
       "      <th>13</th>\n",
       "      <td>14</td>\n",
       "      <td>2018-10-03</td>\n",
       "      <td>2019-02-06</td>\n",
       "    </tr>\n",
       "    <tr>\n",
       "      <th>14</th>\n",
       "      <td>15</td>\n",
       "      <td>2020-01-08</td>\n",
       "      <td>2020-02-19</td>\n",
       "    </tr>\n",
       "  </tbody>\n",
       "</table>\n",
       "</div>"
      ],
      "text/plain": [
       "    season_number season_start season_end\n",
       "0               1   2005-09-22 2006-05-10\n",
       "1               2   2006-09-20 2007-05-16\n",
       "2               3   2007-09-26 2008-05-21\n",
       "3               4   2008-09-24 2009-05-20\n",
       "4               5   2009-09-23 2010-05-26\n",
       "5               6   2010-09-22 2011-05-18\n",
       "6               7   2011-09-21 2012-05-16\n",
       "7               8   2012-09-26 2013-05-22\n",
       "8               9   2013-09-25 2014-05-14\n",
       "9              10   2014-10-01 2015-05-06\n",
       "10             11   2015-09-30 2016-05-04\n",
       "11             12   2016-09-28 2017-05-10\n",
       "12             13   2017-09-27 2018-04-18\n",
       "13             14   2018-10-03 2019-02-06\n",
       "14             15   2020-01-08 2020-02-19"
      ]
     },
     "execution_count": 24,
     "metadata": {},
     "output_type": "execute_result"
    }
   ],
   "source": [
    "#when each season started and ended\n",
    "cm_df2.groupby('season_number')[['season_start','season_end']].max().reset_index()"
   ]
  },
  {
   "cell_type": "code",
   "execution_count": 25,
   "id": "00e095b1-f000-4a23-971a-a3d9198dc592",
   "metadata": {},
   "outputs": [
    {
     "name": "stdout",
     "output_type": "stream",
     "text": [
      "NaT\n",
      "-133 days +00:00:00\n",
      "-133 days +00:00:00\n",
      "-126 days +00:00:00\n",
      "-126 days +00:00:00\n",
      "-119 days +00:00:00\n",
      "-126 days +00:00:00\n",
      "-133 days +00:00:00\n",
      "-126 days +00:00:00\n",
      "-140 days +00:00:00\n",
      "-147 days +00:00:00\n",
      "-147 days +00:00:00\n",
      "-140 days +00:00:00\n",
      "-168 days +00:00:00\n",
      "-336 days +00:00:00\n"
     ]
    }
   ],
   "source": [
    "#get the difference between the start date of a season and the end date of the previous series\n",
    "for season_no in range(15):\n",
    "    release_gap = cm_df2[cm_df2.season_number == season_no].season_end.max() - cm_df2[cm_df2.season_number == season_no+1].season_start.min()\n",
    "    release_gap = release_gap\n",
    "    \n",
    "    print(release_gap)"
   ]
  },
  {
   "cell_type": "markdown",
   "id": "a5055f40-6352-4de0-86c7-851af974c58a",
   "metadata": {},
   "source": [
    "After season 14 it took 336 days for the show to air again, almost twice longer than it took for the other seasons"
   ]
  },
  {
   "cell_type": "code",
   "execution_count": 26,
   "id": "376a2c4b-22cf-427b-abf4-eaf2ec2400bb",
   "metadata": {},
   "outputs": [
    {
     "data": {
      "text/plain": [
       "Timedelta('-336 days +00:00:00')"
      ]
     },
     "execution_count": 26,
     "metadata": {},
     "output_type": "execute_result"
    }
   ],
   "source": [
    "#confirmation\n",
    "cm_df2[cm_df2.season_number == 14].season_end.max() - cm_df2[cm_df2.season_number == 15].season_start.min()"
   ]
  },
  {
   "cell_type": "code",
   "execution_count": null,
   "id": "0d9bcc45-834f-46d8-aa98-720254cbd379",
   "metadata": {},
   "outputs": [],
   "source": []
  },
  {
   "cell_type": "code",
   "execution_count": null,
   "id": "0e87e7c5-78a0-43a7-b4ed-2ada6ae773f7",
   "metadata": {},
   "outputs": [],
   "source": []
  },
  {
   "cell_type": "code",
   "execution_count": 27,
   "id": "522b5590-f720-4ca5-a0e3-bebd26bd5582",
   "metadata": {},
   "outputs": [],
   "source": [
    "import pandas as pd"
   ]
  },
  {
   "cell_type": "code",
   "execution_count": 28,
   "id": "a12287cd-f8de-45e8-88d5-dea96edb1f02",
   "metadata": {},
   "outputs": [
    {
     "data": {
      "text/plain": [
       "episode_airdate\n",
       "2005-09-22    15.070\n",
       "2005-09-29    11.980\n",
       "2005-10-06    13.760\n",
       "2005-10-13    12.790\n",
       "2005-10-20       NaN\n",
       "               ...  \n",
       "2020-01-16     4.490\n",
       "2020-01-23     5.880\n",
       "2020-01-30     4.045\n",
       "2020-02-06     3.940\n",
       "2020-02-13     5.410\n",
       "Freq: 7D, Name: us_viewers_in_millions, Length: 752, dtype: float64"
      ]
     },
     "execution_count": 28,
     "metadata": {},
     "output_type": "execute_result"
    }
   ],
   "source": [
    "cm_df.groupby(pd.Grouper(key='episode_airdate', freq='7d'))['us_viewers_in_millions'].mean()"
   ]
  },
  {
   "cell_type": "code",
   "execution_count": 54,
   "id": "eb125ace-0134-4151-9aec-db5999ac8acf",
   "metadata": {},
   "outputs": [],
   "source": [
    "import datetime as dt"
   ]
  },
  {
   "cell_type": "code",
   "execution_count": 71,
   "id": "d3eb45b8-04c9-4f2b-a6b4-f2a581b9916a",
   "metadata": {},
   "outputs": [
    {
     "ename": "KeyError",
     "evalue": "7.8",
     "output_type": "error",
     "traceback": [
      "\u001b[1;31m---------------------------------------------------------------------------\u001b[0m",
      "\u001b[1;31mKeyError\u001b[0m                                  Traceback (most recent call last)",
      "Input \u001b[1;32mIn [71]\u001b[0m, in \u001b[0;36m<cell line: 1>\u001b[1;34m()\u001b[0m\n\u001b[1;32m----> 1\u001b[0m \u001b[43mcm_df\u001b[49m\u001b[38;5;241;43m.\u001b[39;49m\u001b[43mpivot_table\u001b[49m\u001b[43m(\u001b[49m\u001b[43mvalues\u001b[49m\u001b[38;5;241;43m=\u001b[39;49m\u001b[43mcm_df\u001b[49m\u001b[38;5;241;43m.\u001b[39;49m\u001b[43mimdb_rating\u001b[49m\u001b[43m,\u001b[49m\u001b[43m \u001b[49m\u001b[43mindex\u001b[49m\u001b[38;5;241;43m=\u001b[39;49m\u001b[43mcm_df\u001b[49m\u001b[38;5;241;43m.\u001b[39;49m\u001b[43mimdb_votes\u001b[49m\u001b[43m,\u001b[49m\u001b[43m \u001b[49m\u001b[43mcolumns\u001b[49m\u001b[38;5;241;43m=\u001b[39;49m\u001b[43mcm_df\u001b[49m\u001b[38;5;241;43m.\u001b[39;49m\u001b[43mseason_number\u001b[49m\u001b[43m,\u001b[49m\u001b[43m \u001b[49m\u001b[43maggfunc\u001b[49m\u001b[38;5;241;43m=\u001b[39;49m\u001b[38;5;124;43m'\u001b[39;49m\u001b[38;5;124;43mcount\u001b[39;49m\u001b[38;5;124;43m'\u001b[39;49m\u001b[43m)\u001b[49m\n",
      "File \u001b[1;32m~\\anaconda3\\envs\\.venvdataanalyis\\lib\\site-packages\\pandas\\core\\frame.py:8718\u001b[0m, in \u001b[0;36mDataFrame.pivot_table\u001b[1;34m(self, values, index, columns, aggfunc, fill_value, margins, dropna, margins_name, observed, sort)\u001b[0m\n\u001b[0;32m   8701\u001b[0m \u001b[38;5;129m@Substitution\u001b[39m(\u001b[38;5;124m\"\u001b[39m\u001b[38;5;124m\"\u001b[39m)\n\u001b[0;32m   8702\u001b[0m \u001b[38;5;129m@Appender\u001b[39m(_shared_docs[\u001b[38;5;124m\"\u001b[39m\u001b[38;5;124mpivot_table\u001b[39m\u001b[38;5;124m\"\u001b[39m])\n\u001b[0;32m   8703\u001b[0m \u001b[38;5;28;01mdef\u001b[39;00m \u001b[38;5;21mpivot_table\u001b[39m(\n\u001b[1;32m   (...)\u001b[0m\n\u001b[0;32m   8714\u001b[0m     sort\u001b[38;5;241m=\u001b[39m\u001b[38;5;28;01mTrue\u001b[39;00m,\n\u001b[0;32m   8715\u001b[0m ) \u001b[38;5;241m-\u001b[39m\u001b[38;5;241m>\u001b[39m DataFrame:\n\u001b[0;32m   8716\u001b[0m     \u001b[38;5;28;01mfrom\u001b[39;00m \u001b[38;5;21;01mpandas\u001b[39;00m\u001b[38;5;21;01m.\u001b[39;00m\u001b[38;5;21;01mcore\u001b[39;00m\u001b[38;5;21;01m.\u001b[39;00m\u001b[38;5;21;01mreshape\u001b[39;00m\u001b[38;5;21;01m.\u001b[39;00m\u001b[38;5;21;01mpivot\u001b[39;00m \u001b[38;5;28;01mimport\u001b[39;00m pivot_table\n\u001b[1;32m-> 8718\u001b[0m     \u001b[38;5;28;01mreturn\u001b[39;00m \u001b[43mpivot_table\u001b[49m\u001b[43m(\u001b[49m\n\u001b[0;32m   8719\u001b[0m \u001b[43m        \u001b[49m\u001b[38;5;28;43mself\u001b[39;49m\u001b[43m,\u001b[49m\n\u001b[0;32m   8720\u001b[0m \u001b[43m        \u001b[49m\u001b[43mvalues\u001b[49m\u001b[38;5;241;43m=\u001b[39;49m\u001b[43mvalues\u001b[49m\u001b[43m,\u001b[49m\n\u001b[0;32m   8721\u001b[0m \u001b[43m        \u001b[49m\u001b[43mindex\u001b[49m\u001b[38;5;241;43m=\u001b[39;49m\u001b[43mindex\u001b[49m\u001b[43m,\u001b[49m\n\u001b[0;32m   8722\u001b[0m \u001b[43m        \u001b[49m\u001b[43mcolumns\u001b[49m\u001b[38;5;241;43m=\u001b[39;49m\u001b[43mcolumns\u001b[49m\u001b[43m,\u001b[49m\n\u001b[0;32m   8723\u001b[0m \u001b[43m        \u001b[49m\u001b[43maggfunc\u001b[49m\u001b[38;5;241;43m=\u001b[39;49m\u001b[43maggfunc\u001b[49m\u001b[43m,\u001b[49m\n\u001b[0;32m   8724\u001b[0m \u001b[43m        \u001b[49m\u001b[43mfill_value\u001b[49m\u001b[38;5;241;43m=\u001b[39;49m\u001b[43mfill_value\u001b[49m\u001b[43m,\u001b[49m\n\u001b[0;32m   8725\u001b[0m \u001b[43m        \u001b[49m\u001b[43mmargins\u001b[49m\u001b[38;5;241;43m=\u001b[39;49m\u001b[43mmargins\u001b[49m\u001b[43m,\u001b[49m\n\u001b[0;32m   8726\u001b[0m \u001b[43m        \u001b[49m\u001b[43mdropna\u001b[49m\u001b[38;5;241;43m=\u001b[39;49m\u001b[43mdropna\u001b[49m\u001b[43m,\u001b[49m\n\u001b[0;32m   8727\u001b[0m \u001b[43m        \u001b[49m\u001b[43mmargins_name\u001b[49m\u001b[38;5;241;43m=\u001b[39;49m\u001b[43mmargins_name\u001b[49m\u001b[43m,\u001b[49m\n\u001b[0;32m   8728\u001b[0m \u001b[43m        \u001b[49m\u001b[43mobserved\u001b[49m\u001b[38;5;241;43m=\u001b[39;49m\u001b[43mobserved\u001b[49m\u001b[43m,\u001b[49m\n\u001b[0;32m   8729\u001b[0m \u001b[43m        \u001b[49m\u001b[43msort\u001b[49m\u001b[38;5;241;43m=\u001b[39;49m\u001b[43msort\u001b[49m\u001b[43m,\u001b[49m\n\u001b[0;32m   8730\u001b[0m \u001b[43m    \u001b[49m\u001b[43m)\u001b[49m\n",
      "File \u001b[1;32m~\\anaconda3\\envs\\.venvdataanalyis\\lib\\site-packages\\pandas\\core\\reshape\\pivot.py:96\u001b[0m, in \u001b[0;36mpivot_table\u001b[1;34m(data, values, index, columns, aggfunc, fill_value, margins, dropna, margins_name, observed, sort)\u001b[0m\n\u001b[0;32m     93\u001b[0m     table \u001b[38;5;241m=\u001b[39m concat(pieces, keys\u001b[38;5;241m=\u001b[39mkeys, axis\u001b[38;5;241m=\u001b[39m\u001b[38;5;241m1\u001b[39m)\n\u001b[0;32m     94\u001b[0m     \u001b[38;5;28;01mreturn\u001b[39;00m table\u001b[38;5;241m.\u001b[39m__finalize__(data, method\u001b[38;5;241m=\u001b[39m\u001b[38;5;124m\"\u001b[39m\u001b[38;5;124mpivot_table\u001b[39m\u001b[38;5;124m\"\u001b[39m)\n\u001b[1;32m---> 96\u001b[0m table \u001b[38;5;241m=\u001b[39m \u001b[43m__internal_pivot_table\u001b[49m\u001b[43m(\u001b[49m\n\u001b[0;32m     97\u001b[0m \u001b[43m    \u001b[49m\u001b[43mdata\u001b[49m\u001b[43m,\u001b[49m\n\u001b[0;32m     98\u001b[0m \u001b[43m    \u001b[49m\u001b[43mvalues\u001b[49m\u001b[43m,\u001b[49m\n\u001b[0;32m     99\u001b[0m \u001b[43m    \u001b[49m\u001b[43mindex\u001b[49m\u001b[43m,\u001b[49m\n\u001b[0;32m    100\u001b[0m \u001b[43m    \u001b[49m\u001b[43mcolumns\u001b[49m\u001b[43m,\u001b[49m\n\u001b[0;32m    101\u001b[0m \u001b[43m    \u001b[49m\u001b[43maggfunc\u001b[49m\u001b[43m,\u001b[49m\n\u001b[0;32m    102\u001b[0m \u001b[43m    \u001b[49m\u001b[43mfill_value\u001b[49m\u001b[43m,\u001b[49m\n\u001b[0;32m    103\u001b[0m \u001b[43m    \u001b[49m\u001b[43mmargins\u001b[49m\u001b[43m,\u001b[49m\n\u001b[0;32m    104\u001b[0m \u001b[43m    \u001b[49m\u001b[43mdropna\u001b[49m\u001b[43m,\u001b[49m\n\u001b[0;32m    105\u001b[0m \u001b[43m    \u001b[49m\u001b[43mmargins_name\u001b[49m\u001b[43m,\u001b[49m\n\u001b[0;32m    106\u001b[0m \u001b[43m    \u001b[49m\u001b[43mobserved\u001b[49m\u001b[43m,\u001b[49m\n\u001b[0;32m    107\u001b[0m \u001b[43m    \u001b[49m\u001b[43msort\u001b[49m\u001b[43m,\u001b[49m\n\u001b[0;32m    108\u001b[0m \u001b[43m\u001b[49m\u001b[43m)\u001b[49m\n\u001b[0;32m    109\u001b[0m \u001b[38;5;28;01mreturn\u001b[39;00m table\u001b[38;5;241m.\u001b[39m__finalize__(data, method\u001b[38;5;241m=\u001b[39m\u001b[38;5;124m\"\u001b[39m\u001b[38;5;124mpivot_table\u001b[39m\u001b[38;5;124m\"\u001b[39m)\n",
      "File \u001b[1;32m~\\anaconda3\\envs\\.venvdataanalyis\\lib\\site-packages\\pandas\\core\\reshape\\pivot.py:142\u001b[0m, in \u001b[0;36m__internal_pivot_table\u001b[1;34m(data, values, index, columns, aggfunc, fill_value, margins, dropna, margins_name, observed, sort)\u001b[0m\n\u001b[0;32m    140\u001b[0m \u001b[38;5;28;01mfor\u001b[39;00m i \u001b[38;5;129;01min\u001b[39;00m values:\n\u001b[0;32m    141\u001b[0m     \u001b[38;5;28;01mif\u001b[39;00m i \u001b[38;5;129;01mnot\u001b[39;00m \u001b[38;5;129;01min\u001b[39;00m data:\n\u001b[1;32m--> 142\u001b[0m         \u001b[38;5;28;01mraise\u001b[39;00m \u001b[38;5;167;01mKeyError\u001b[39;00m(i)\n\u001b[0;32m    144\u001b[0m to_filter \u001b[38;5;241m=\u001b[39m []\n\u001b[0;32m    145\u001b[0m \u001b[38;5;28;01mfor\u001b[39;00m x \u001b[38;5;129;01min\u001b[39;00m keys \u001b[38;5;241m+\u001b[39m values:\n",
      "\u001b[1;31mKeyError\u001b[0m: 7.8"
     ]
    }
   ],
   "source": [
    "cm_df.pivot_table(values=cm_df.imdb_rating, index=cm_df.imdb_votes, columns=cm_df.season_number, aggfunc='count')"
   ]
  },
  {
   "cell_type": "code",
   "execution_count": null,
   "id": "e6338373-ffcd-4d06-be39-be37897a1b85",
   "metadata": {},
   "outputs": [],
   "source": []
  },
  {
   "cell_type": "code",
   "execution_count": null,
   "id": "34065c7c-d28f-4910-98ca-072d88d6e7e2",
   "metadata": {},
   "outputs": [],
   "source": []
  }
 ],
 "metadata": {
  "kernelspec": {
   "display_name": "Python 3 (ipykernel)",
   "language": "python",
   "name": "python3"
  },
  "language_info": {
   "codemirror_mode": {
    "name": "ipython",
    "version": 3
   },
   "file_extension": ".py",
   "mimetype": "text/x-python",
   "name": "python",
   "nbconvert_exporter": "python",
   "pygments_lexer": "ipython3",
   "version": "3.10.4"
  }
 },
 "nbformat": 4,
 "nbformat_minor": 5
}
